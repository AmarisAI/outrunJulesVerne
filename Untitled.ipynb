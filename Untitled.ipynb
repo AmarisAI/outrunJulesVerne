{
 "cells": [
  {
   "cell_type": "code",
   "execution_count": 1,
   "metadata": {
    "collapsed": true
   },
   "outputs": [],
   "source": [
    "import pandas as pd"
   ]
  },
  {
   "cell_type": "code",
   "execution_count": 2,
   "metadata": {
    "collapsed": true
   },
   "outputs": [],
   "source": [
    "def replace_(x):\n",
    "    try:\n",
    "        x = x.replace('\\r',' ')\n",
    "        return x.replace('\\n',' ')\n",
    "    except:\n",
    "        return x"
   ]
  },
  {
   "cell_type": "code",
   "execution_count": 3,
   "metadata": {
    "collapsed": true
   },
   "outputs": [],
   "source": [
    "df = pd.read_csv('reviews_.csv')\n",
    "df.reviews = df.reviews.apply(replace_)"
   ]
  },
  {
   "cell_type": "code",
   "execution_count": 4,
   "metadata": {
    "collapsed": true
   },
   "outputs": [],
   "source": [
    "df0 = pd.read_csv('reviews_0.csv')\n",
    "df0.reviews = df0.reviews.apply(replace_)"
   ]
  },
  {
   "cell_type": "code",
   "execution_count": 5,
   "metadata": {
    "collapsed": true
   },
   "outputs": [],
   "source": [
    "df2 = pd.read_csv('reviews_2.csv')\n",
    "df2.reviews = df2.reviews.apply(replace_)"
   ]
  },
  {
   "cell_type": "code",
   "execution_count": 6,
   "metadata": {
    "collapsed": true
   },
   "outputs": [],
   "source": [
    "df1 = pd.read_csv('reviews_1.csv')\n",
    "df1.reviews = df1.reviews.apply(replace_)"
   ]
  },
  {
   "cell_type": "code",
   "execution_count": 7,
   "metadata": {
    "collapsed": true
   },
   "outputs": [],
   "source": [
    "df4 = pd.read_csv('reviews_4.csv')\n",
    "df4.reviews = df4.reviews.apply(replace_)"
   ]
  },
  {
   "cell_type": "code",
   "execution_count": 8,
   "metadata": {
    "collapsed": true
   },
   "outputs": [],
   "source": [
    "df5 = pd.read_csv('reviews_5.csv')\n",
    "df5.reviews = df5.reviews.apply(replace_)"
   ]
  },
  {
   "cell_type": "code",
   "execution_count": 9,
   "metadata": {},
   "outputs": [
    {
     "data": {
      "text/html": [
       "<div>\n",
       "<style>\n",
       "    .dataframe thead tr:only-child th {\n",
       "        text-align: right;\n",
       "    }\n",
       "\n",
       "    .dataframe thead th {\n",
       "        text-align: left;\n",
       "    }\n",
       "\n",
       "    .dataframe tbody tr th {\n",
       "        vertical-align: top;\n",
       "    }\n",
       "</style>\n",
       "<table border=\"1\" class=\"dataframe\">\n",
       "  <thead>\n",
       "    <tr style=\"text-align: right;\">\n",
       "      <th></th>\n",
       "      <th>attractions</th>\n",
       "      <th>reviews</th>\n",
       "    </tr>\n",
       "  </thead>\n",
       "  <tbody>\n",
       "    <tr>\n",
       "      <th>0</th>\n",
       "      <td>Sydney_Harbour-Sydney_New_South_Wales</td>\n",
       "      <td>Apart from the mass tourist population, this i...</td>\n",
       "    </tr>\n",
       "    <tr>\n",
       "      <th>1</th>\n",
       "      <td>Sydney_Harbour-Sydney_New_South_Wales</td>\n",
       "      <td>Iconic sightseeing of the harbour area includi...</td>\n",
       "    </tr>\n",
       "    <tr>\n",
       "      <th>2</th>\n",
       "      <td>Sydney_Harbour-Sydney_New_South_Wales</td>\n",
       "      <td>Beautiful harbour. Good to go at daytime or ni...</td>\n",
       "    </tr>\n",
       "    <tr>\n",
       "      <th>3</th>\n",
       "      <td>Sydney_Harbour-Sydney_New_South_Wales</td>\n",
       "      <td>We took a tour with Grayline which included lu...</td>\n",
       "    </tr>\n",
       "    <tr>\n",
       "      <th>4</th>\n",
       "      <td>Sydney_Harbour-Sydney_New_South_Wales</td>\n",
       "      <td>Visit the Harbor multiple times to get great a...</td>\n",
       "    </tr>\n",
       "  </tbody>\n",
       "</table>\n",
       "</div>"
      ],
      "text/plain": [
       "                             attractions  \\\n",
       "0  Sydney_Harbour-Sydney_New_South_Wales   \n",
       "1  Sydney_Harbour-Sydney_New_South_Wales   \n",
       "2  Sydney_Harbour-Sydney_New_South_Wales   \n",
       "3  Sydney_Harbour-Sydney_New_South_Wales   \n",
       "4  Sydney_Harbour-Sydney_New_South_Wales   \n",
       "\n",
       "                                             reviews  \n",
       "0  Apart from the mass tourist population, this i...  \n",
       "1  Iconic sightseeing of the harbour area includi...  \n",
       "2  Beautiful harbour. Good to go at daytime or ni...  \n",
       "3  We took a tour with Grayline which included lu...  \n",
       "4  Visit the Harbor multiple times to get great a...  "
      ]
     },
     "execution_count": 9,
     "metadata": {},
     "output_type": "execute_result"
    }
   ],
   "source": [
    "df[:5] #0-100"
   ]
  },
  {
   "cell_type": "code",
   "execution_count": 10,
   "metadata": {},
   "outputs": [
    {
     "data": {
      "text/html": [
       "<div>\n",
       "<style>\n",
       "    .dataframe thead tr:only-child th {\n",
       "        text-align: right;\n",
       "    }\n",
       "\n",
       "    .dataframe thead th {\n",
       "        text-align: left;\n",
       "    }\n",
       "\n",
       "    .dataframe tbody tr th {\n",
       "        vertical-align: top;\n",
       "    }\n",
       "</style>\n",
       "<table border=\"1\" class=\"dataframe\">\n",
       "  <thead>\n",
       "    <tr style=\"text-align: right;\">\n",
       "      <th></th>\n",
       "      <th>attractions</th>\n",
       "      <th>reviews</th>\n",
       "    </tr>\n",
       "  </thead>\n",
       "  <tbody>\n",
       "    <tr>\n",
       "      <th>0</th>\n",
       "      <td>Angkor_Thom-Siem_Reap_Siem_Reap_Province</td>\n",
       "      <td>Angkor Thom is one of the iconic sites around ...</td>\n",
       "    </tr>\n",
       "    <tr>\n",
       "      <th>1</th>\n",
       "      <td>Angkor_Thom-Siem_Reap_Siem_Reap_Province</td>\n",
       "      <td>Extraordinary temple in the Angkor Wat complex...</td>\n",
       "    </tr>\n",
       "    <tr>\n",
       "      <th>2</th>\n",
       "      <td>Angkor_Thom-Siem_Reap_Siem_Reap_Province</td>\n",
       "      <td>You must definitely go to this site. The tower...</td>\n",
       "    </tr>\n",
       "    <tr>\n",
       "      <th>3</th>\n",
       "      <td>Angkor_Thom-Siem_Reap_Siem_Reap_Province</td>\n",
       "      <td>Such a fantastic place to walk round. As is ou...</td>\n",
       "    </tr>\n",
       "    <tr>\n",
       "      <th>4</th>\n",
       "      <td>Angkor_Thom-Siem_Reap_Siem_Reap_Province</td>\n",
       "      <td>Found this to be more stunning and quieter tha...</td>\n",
       "    </tr>\n",
       "  </tbody>\n",
       "</table>\n",
       "</div>"
      ],
      "text/plain": [
       "                                attractions  \\\n",
       "0  Angkor_Thom-Siem_Reap_Siem_Reap_Province   \n",
       "1  Angkor_Thom-Siem_Reap_Siem_Reap_Province   \n",
       "2  Angkor_Thom-Siem_Reap_Siem_Reap_Province   \n",
       "3  Angkor_Thom-Siem_Reap_Siem_Reap_Province   \n",
       "4  Angkor_Thom-Siem_Reap_Siem_Reap_Province   \n",
       "\n",
       "                                             reviews  \n",
       "0  Angkor Thom is one of the iconic sites around ...  \n",
       "1  Extraordinary temple in the Angkor Wat complex...  \n",
       "2  You must definitely go to this site. The tower...  \n",
       "3  Such a fantastic place to walk round. As is ou...  \n",
       "4  Found this to be more stunning and quieter tha...  "
      ]
     },
     "execution_count": 10,
     "metadata": {},
     "output_type": "execute_result"
    }
   ],
   "source": [
    "df0[:5] #100-500"
   ]
  },
  {
   "cell_type": "code",
   "execution_count": 11,
   "metadata": {},
   "outputs": [
    {
     "data": {
      "text/html": [
       "<div>\n",
       "<style>\n",
       "    .dataframe thead tr:only-child th {\n",
       "        text-align: right;\n",
       "    }\n",
       "\n",
       "    .dataframe thead th {\n",
       "        text-align: left;\n",
       "    }\n",
       "\n",
       "    .dataframe tbody tr th {\n",
       "        vertical-align: top;\n",
       "    }\n",
       "</style>\n",
       "<table border=\"1\" class=\"dataframe\">\n",
       "  <thead>\n",
       "    <tr style=\"text-align: right;\">\n",
       "      <th></th>\n",
       "      <th>attractions</th>\n",
       "      <th>reviews</th>\n",
       "    </tr>\n",
       "  </thead>\n",
       "  <tbody>\n",
       "    <tr>\n",
       "      <th>0</th>\n",
       "      <td>Safari_World-Bangkok</td>\n",
       "      <td>This is very nice place for full day and good...</td>\n",
       "    </tr>\n",
       "    <tr>\n",
       "      <th>1</th>\n",
       "      <td>Safari_World-Bangkok</td>\n",
       "      <td>Only kids will enjoy. Shows are prescheduled ...</td>\n",
       "    </tr>\n",
       "    <tr>\n",
       "      <th>2</th>\n",
       "      <td>Safari_World-Bangkok</td>\n",
       "      <td>This is very nice place for full day and good ...</td>\n",
       "    </tr>\n",
       "    <tr>\n",
       "      <th>3</th>\n",
       "      <td>Safari_World-Bangkok</td>\n",
       "      <td>Only kids will enjoy. Shows are prescheduled a...</td>\n",
       "    </tr>\n",
       "    <tr>\n",
       "      <th>4</th>\n",
       "      <td>Safari_World-Bangkok</td>\n",
       "      <td>I will like to suggest buying the tickets only...</td>\n",
       "    </tr>\n",
       "  </tbody>\n",
       "</table>\n",
       "</div>"
      ],
      "text/plain": [
       "            attractions                                            reviews\n",
       "0  Safari_World-Bangkok   This is very nice place for full day and good...\n",
       "1  Safari_World-Bangkok   Only kids will enjoy. Shows are prescheduled ...\n",
       "2  Safari_World-Bangkok  This is very nice place for full day and good ...\n",
       "3  Safari_World-Bangkok  Only kids will enjoy. Shows are prescheduled a...\n",
       "4  Safari_World-Bangkok  I will like to suggest buying the tickets only..."
      ]
     },
     "execution_count": 11,
     "metadata": {},
     "output_type": "execute_result"
    }
   ],
   "source": [
    "df1[:5] #500-1000"
   ]
  },
  {
   "cell_type": "code",
   "execution_count": 12,
   "metadata": {},
   "outputs": [
    {
     "data": {
      "text/html": [
       "<div>\n",
       "<style>\n",
       "    .dataframe thead tr:only-child th {\n",
       "        text-align: right;\n",
       "    }\n",
       "\n",
       "    .dataframe thead th {\n",
       "        text-align: left;\n",
       "    }\n",
       "\n",
       "    .dataframe tbody tr th {\n",
       "        vertical-align: top;\n",
       "    }\n",
       "</style>\n",
       "<table border=\"1\" class=\"dataframe\">\n",
       "  <thead>\n",
       "    <tr style=\"text-align: right;\">\n",
       "      <th></th>\n",
       "      <th>attractions</th>\n",
       "      <th>reviews</th>\n",
       "    </tr>\n",
       "  </thead>\n",
       "  <tbody>\n",
       "    <tr>\n",
       "      <th>0</th>\n",
       "      <td>Torres_del_Paine_National_Park-Puerto_Natales_...</td>\n",
       "      <td>Try to be in good shape. This was amazing. We ...</td>\n",
       "    </tr>\n",
       "    <tr>\n",
       "      <th>1</th>\n",
       "      <td>Torres_del_Paine_National_Park-Puerto_Natales_...</td>\n",
       "      <td>We did the w trek on our honeymoon and organiz...</td>\n",
       "    </tr>\n",
       "    <tr>\n",
       "      <th>2</th>\n",
       "      <td>Torres_del_Paine_National_Park-Puerto_Natales_...</td>\n",
       "      <td>We visited Torres del Paine in October - a lit...</td>\n",
       "    </tr>\n",
       "    <tr>\n",
       "      <th>3</th>\n",
       "      <td>Torres_del_Paine_National_Park-Puerto_Natales_...</td>\n",
       "      <td>It's really worth a hustle . Don't pay for gui...</td>\n",
       "    </tr>\n",
       "    <tr>\n",
       "      <th>4</th>\n",
       "      <td>Torres_del_Paine_National_Park-Puerto_Natales_...</td>\n",
       "      <td>Did the one day 23 km hike up to the lake at t...</td>\n",
       "    </tr>\n",
       "  </tbody>\n",
       "</table>\n",
       "</div>"
      ],
      "text/plain": [
       "                                         attractions  \\\n",
       "0  Torres_del_Paine_National_Park-Puerto_Natales_...   \n",
       "1  Torres_del_Paine_National_Park-Puerto_Natales_...   \n",
       "2  Torres_del_Paine_National_Park-Puerto_Natales_...   \n",
       "3  Torres_del_Paine_National_Park-Puerto_Natales_...   \n",
       "4  Torres_del_Paine_National_Park-Puerto_Natales_...   \n",
       "\n",
       "                                             reviews  \n",
       "0  Try to be in good shape. This was amazing. We ...  \n",
       "1  We did the w trek on our honeymoon and organiz...  \n",
       "2  We visited Torres del Paine in October - a lit...  \n",
       "3  It's really worth a hustle . Don't pay for gui...  \n",
       "4  Did the one day 23 km hike up to the lake at t...  "
      ]
     },
     "execution_count": 12,
     "metadata": {},
     "output_type": "execute_result"
    }
   ],
   "source": [
    "df2[:5] #1000-1500"
   ]
  },
  {
   "cell_type": "code",
   "execution_count": 13,
   "metadata": {},
   "outputs": [
    {
     "data": {
      "text/html": [
       "<div>\n",
       "<style>\n",
       "    .dataframe thead tr:only-child th {\n",
       "        text-align: right;\n",
       "    }\n",
       "\n",
       "    .dataframe thead th {\n",
       "        text-align: left;\n",
       "    }\n",
       "\n",
       "    .dataframe tbody tr th {\n",
       "        vertical-align: top;\n",
       "    }\n",
       "</style>\n",
       "<table border=\"1\" class=\"dataframe\">\n",
       "  <thead>\n",
       "    <tr style=\"text-align: right;\">\n",
       "      <th></th>\n",
       "      <th>attractions</th>\n",
       "      <th>reviews</th>\n",
       "    </tr>\n",
       "  </thead>\n",
       "  <tbody>\n",
       "    <tr>\n",
       "      <th>0</th>\n",
       "      <td>Plovdiv_Old_Town-Plovdiv_Plovdiv_Province</td>\n",
       "      <td>I would recommend just wandering....the cobble...</td>\n",
       "    </tr>\n",
       "    <tr>\n",
       "      <th>1</th>\n",
       "      <td>Plovdiv_Old_Town-Plovdiv_Plovdiv_Province</td>\n",
       "      <td>Spent a good few hours exploring the old town....</td>\n",
       "    </tr>\n",
       "    <tr>\n",
       "      <th>2</th>\n",
       "      <td>Plovdiv_Old_Town-Plovdiv_Plovdiv_Province</td>\n",
       "      <td>Lovely day trip, but you def need good walking...</td>\n",
       "    </tr>\n",
       "    <tr>\n",
       "      <th>3</th>\n",
       "      <td>Plovdiv_Old_Town-Plovdiv_Plovdiv_Province</td>\n",
       "      <td>Plovdiv The old town is simply facinating with...</td>\n",
       "    </tr>\n",
       "    <tr>\n",
       "      <th>4</th>\n",
       "      <td>Plovdiv_Old_Town-Plovdiv_Plovdiv_Province</td>\n",
       "      <td>Magnificent view over Povdiv - ancient Roman t...</td>\n",
       "    </tr>\n",
       "  </tbody>\n",
       "</table>\n",
       "</div>"
      ],
      "text/plain": [
       "                                 attractions  \\\n",
       "0  Plovdiv_Old_Town-Plovdiv_Plovdiv_Province   \n",
       "1  Plovdiv_Old_Town-Plovdiv_Plovdiv_Province   \n",
       "2  Plovdiv_Old_Town-Plovdiv_Plovdiv_Province   \n",
       "3  Plovdiv_Old_Town-Plovdiv_Plovdiv_Province   \n",
       "4  Plovdiv_Old_Town-Plovdiv_Plovdiv_Province   \n",
       "\n",
       "                                             reviews  \n",
       "0  I would recommend just wandering....the cobble...  \n",
       "1  Spent a good few hours exploring the old town....  \n",
       "2  Lovely day trip, but you def need good walking...  \n",
       "3  Plovdiv The old town is simply facinating with...  \n",
       "4  Magnificent view over Povdiv - ancient Roman t...  "
      ]
     },
     "execution_count": 13,
     "metadata": {},
     "output_type": "execute_result"
    }
   ],
   "source": [
    "df4[:5] #1500-2000"
   ]
  },
  {
   "cell_type": "code",
   "execution_count": 14,
   "metadata": {},
   "outputs": [
    {
     "data": {
      "text/html": [
       "<div>\n",
       "<style>\n",
       "    .dataframe thead tr:only-child th {\n",
       "        text-align: right;\n",
       "    }\n",
       "\n",
       "    .dataframe thead th {\n",
       "        text-align: left;\n",
       "    }\n",
       "\n",
       "    .dataframe tbody tr th {\n",
       "        vertical-align: top;\n",
       "    }\n",
       "</style>\n",
       "<table border=\"1\" class=\"dataframe\">\n",
       "  <thead>\n",
       "    <tr style=\"text-align: right;\">\n",
       "      <th></th>\n",
       "      <th>attractions</th>\n",
       "      <th>reviews</th>\n",
       "    </tr>\n",
       "  </thead>\n",
       "  <tbody>\n",
       "    <tr>\n",
       "      <th>0</th>\n",
       "      <td>Cismigiu_Gardens-Bucharest</td>\n",
       "      <td>If you want a quiet(er) place to relax or take...</td>\n",
       "    </tr>\n",
       "    <tr>\n",
       "      <th>1</th>\n",
       "      <td>Cismigiu_Gardens-Bucharest</td>\n",
       "      <td>Nice gardens and lake. Lots of ice cream stand...</td>\n",
       "    </tr>\n",
       "    <tr>\n",
       "      <th>2</th>\n",
       "      <td>Cismigiu_Gardens-Bucharest</td>\n",
       "      <td>Lovely park with a small lake, and in addition...</td>\n",
       "    </tr>\n",
       "    <tr>\n",
       "      <th>3</th>\n",
       "      <td>Cismigiu_Gardens-Bucharest</td>\n",
       "      <td>This is a very peaceful park in the midst of a...</td>\n",
       "    </tr>\n",
       "    <tr>\n",
       "      <th>4</th>\n",
       "      <td>Cismigiu_Gardens-Bucharest</td>\n",
       "      <td>The gardens are lovely, offering a great place...</td>\n",
       "    </tr>\n",
       "  </tbody>\n",
       "</table>\n",
       "</div>"
      ],
      "text/plain": [
       "                  attractions  \\\n",
       "0  Cismigiu_Gardens-Bucharest   \n",
       "1  Cismigiu_Gardens-Bucharest   \n",
       "2  Cismigiu_Gardens-Bucharest   \n",
       "3  Cismigiu_Gardens-Bucharest   \n",
       "4  Cismigiu_Gardens-Bucharest   \n",
       "\n",
       "                                             reviews  \n",
       "0  If you want a quiet(er) place to relax or take...  \n",
       "1  Nice gardens and lake. Lots of ice cream stand...  \n",
       "2  Lovely park with a small lake, and in addition...  \n",
       "3  This is a very peaceful park in the midst of a...  \n",
       "4  The gardens are lovely, offering a great place...  "
      ]
     },
     "execution_count": 14,
     "metadata": {},
     "output_type": "execute_result"
    }
   ],
   "source": [
    "df5[:5] #2000-"
   ]
  },
  {
   "cell_type": "code",
   "execution_count": 15,
   "metadata": {
    "collapsed": true
   },
   "outputs": [],
   "source": [
    "df = df.append(df0)\n",
    "df = df.append(df1)\n",
    "df = df.append(df2)\n",
    "df = df.append(df4)\n",
    "df = df.append(df5)"
   ]
  },
  {
   "cell_type": "code",
   "execution_count": 16,
   "metadata": {},
   "outputs": [
    {
     "data": {
      "text/plain": [
       "(1299450, 2)"
      ]
     },
     "execution_count": 16,
     "metadata": {},
     "output_type": "execute_result"
    }
   ],
   "source": [
    "df.shape"
   ]
  },
  {
   "cell_type": "code",
   "execution_count": 17,
   "metadata": {
    "collapsed": true
   },
   "outputs": [],
   "source": [
    "df = df.drop_duplicates()"
   ]
  },
  {
   "cell_type": "code",
   "execution_count": 18,
   "metadata": {},
   "outputs": [
    {
     "data": {
      "text/plain": [
       "(1001171, 2)"
      ]
     },
     "execution_count": 18,
     "metadata": {},
     "output_type": "execute_result"
    }
   ],
   "source": [
    "df.shape"
   ]
  },
  {
   "cell_type": "code",
   "execution_count": 19,
   "metadata": {
    "collapsed": true
   },
   "outputs": [],
   "source": [
    "df.to_csv('reviews.csv')"
   ]
  },
  {
   "cell_type": "code",
   "execution_count": 13,
   "metadata": {
    "collapsed": true
   },
   "outputs": [],
   "source": [
    "df_ = pd.read_csv('reviews_.csv')"
   ]
  },
  {
   "cell_type": "code",
   "execution_count": 14,
   "metadata": {
    "collapsed": true
   },
   "outputs": [],
   "source": [
    "df_ = df_.append(df)"
   ]
  },
  {
   "cell_type": "code",
   "execution_count": 15,
   "metadata": {},
   "outputs": [
    {
     "data": {
      "text/plain": [
       "(1143453, 2)"
      ]
     },
     "execution_count": 15,
     "metadata": {},
     "output_type": "execute_result"
    }
   ],
   "source": [
    "df_.shape"
   ]
  },
  {
   "cell_type": "code",
   "execution_count": 16,
   "metadata": {},
   "outputs": [
    {
     "data": {
      "text/html": [
       "<div>\n",
       "<style>\n",
       "    .dataframe thead tr:only-child th {\n",
       "        text-align: right;\n",
       "    }\n",
       "\n",
       "    .dataframe thead th {\n",
       "        text-align: left;\n",
       "    }\n",
       "\n",
       "    .dataframe tbody tr th {\n",
       "        vertical-align: top;\n",
       "    }\n",
       "</style>\n",
       "<table border=\"1\" class=\"dataframe\">\n",
       "  <thead>\n",
       "    <tr style=\"text-align: right;\">\n",
       "      <th></th>\n",
       "      <th>attractions</th>\n",
       "      <th>reviews</th>\n",
       "    </tr>\n",
       "  </thead>\n",
       "  <tbody>\n",
       "    <tr>\n",
       "      <th>count</th>\n",
       "      <td>1143453</td>\n",
       "      <td>1143401</td>\n",
       "    </tr>\n",
       "    <tr>\n",
       "      <th>unique</th>\n",
       "      <td>1674</td>\n",
       "      <td>883591</td>\n",
       "    </tr>\n",
       "    <tr>\n",
       "      <th>top</th>\n",
       "      <td>The_Norwegian_Museum_of_Cultural_History-Oslo_...</td>\n",
       "      <td>Dear Guest, Thank you for your review on TripA...</td>\n",
       "    </tr>\n",
       "    <tr>\n",
       "      <th>freq</th>\n",
       "      <td>5010</td>\n",
       "      <td>446</td>\n",
       "    </tr>\n",
       "  </tbody>\n",
       "</table>\n",
       "</div>"
      ],
      "text/plain": [
       "                                              attractions  \\\n",
       "count                                             1143453   \n",
       "unique                                               1674   \n",
       "top     The_Norwegian_Museum_of_Cultural_History-Oslo_...   \n",
       "freq                                                 5010   \n",
       "\n",
       "                                                  reviews  \n",
       "count                                             1143401  \n",
       "unique                                             883591  \n",
       "top     Dear Guest, Thank you for your review on TripA...  \n",
       "freq                                                  446  "
      ]
     },
     "execution_count": 16,
     "metadata": {},
     "output_type": "execute_result"
    }
   ],
   "source": [
    "df_.describe()"
   ]
  },
  {
   "cell_type": "code",
   "execution_count": null,
   "metadata": {
    "collapsed": true
   },
   "outputs": [],
   "source": [
    "d = {'one' : pd.Series([1., 2., 3.], index=['a', 'b', 'c']),\n",
    "      'two' : pd.Series([1., 2., 3., 4.], index=['a', 'b', 'c', 'd'])}"
   ]
  },
  {
   "cell_type": "code",
   "execution_count": null,
   "metadata": {
    "collapsed": true
   },
   "outputs": [],
   "source": [
    "df_numbers = pd.DataFrame(d)"
   ]
  },
  {
   "cell_type": "code",
   "execution_count": null,
   "metadata": {
    "collapsed": true
   },
   "outputs": [],
   "source": [
    "df_numbers"
   ]
  },
  {
   "cell_type": "code",
   "execution_count": null,
   "metadata": {
    "collapsed": true
   },
   "outputs": [],
   "source": [
    "df_numbers = df_numbers.fillna(3.0)"
   ]
  },
  {
   "cell_type": "code",
   "execution_count": null,
   "metadata": {
    "collapsed": true
   },
   "outputs": [],
   "source": [
    "df_numbers.drop_duplicates()"
   ]
  },
  {
   "cell_type": "code",
   "execution_count": null,
   "metadata": {
    "collapsed": true
   },
   "outputs": [],
   "source": [
    "df_numbers.two.loc['d'] = 3.0"
   ]
  },
  {
   "cell_type": "code",
   "execution_count": null,
   "metadata": {
    "collapsed": true
   },
   "outputs": [],
   "source": [
    "df_numbers.drop_duplicates()"
   ]
  },
  {
   "cell_type": "code",
   "execution_count": 17,
   "metadata": {
    "collapsed": true
   },
   "outputs": [],
   "source": [
    "df_reviews = df_.copy()"
   ]
  },
  {
   "cell_type": "code",
   "execution_count": 17,
   "metadata": {},
   "outputs": [
    {
     "data": {
      "text/plain": [
       "(1143453, 2)"
      ]
     },
     "execution_count": 17,
     "metadata": {},
     "output_type": "execute_result"
    }
   ],
   "source": [
    "df_.shape"
   ]
  },
  {
   "cell_type": "code",
   "execution_count": 18,
   "metadata": {
    "collapsed": true
   },
   "outputs": [],
   "source": [
    "df_ = df_.drop_duplicates()"
   ]
  },
  {
   "cell_type": "code",
   "execution_count": 19,
   "metadata": {},
   "outputs": [
    {
     "data": {
      "text/plain": [
       "(883965, 2)"
      ]
     },
     "execution_count": 19,
     "metadata": {},
     "output_type": "execute_result"
    }
   ],
   "source": [
    "df_.shape"
   ]
  },
  {
   "cell_type": "code",
   "execution_count": 20,
   "metadata": {
    "collapsed": true
   },
   "outputs": [],
   "source": [
    "df_.reviews = df_.reviews.astype(str)\n",
    "df_.attractions = df_.attractions.astype(str)"
   ]
  },
  {
   "cell_type": "code",
   "execution_count": 21,
   "metadata": {},
   "outputs": [
    {
     "name": "stdout",
     "output_type": "stream",
     "text": [
      "<class 'pandas.core.frame.DataFrame'>\n",
      "Int64Index: 883965 entries, 0 to 304360\n",
      "Data columns (total 2 columns):\n",
      "attractions    883965 non-null object\n",
      "reviews        883965 non-null object\n",
      "dtypes: object(2)\n",
      "memory usage: 20.2+ MB\n"
     ]
    }
   ],
   "source": [
    "df_.info()"
   ]
  },
  {
   "cell_type": "code",
   "execution_count": null,
   "metadata": {
    "collapsed": true
   },
   "outputs": [],
   "source": []
  },
  {
   "cell_type": "code",
   "execution_count": null,
   "metadata": {
    "collapsed": true
   },
   "outputs": [],
   "source": []
  },
  {
   "cell_type": "code",
   "execution_count": null,
   "metadata": {
    "collapsed": true
   },
   "outputs": [],
   "source": []
  },
  {
   "cell_type": "code",
   "execution_count": 22,
   "metadata": {
    "collapsed": true
   },
   "outputs": [],
   "source": [
    "import csv\n",
    "import pandas as pd\n",
    "\n",
    "import pyspark as ps    # for the pyspark suite\n",
    "\n",
    "spark = ps.sql.SparkSession.builder \\\n",
    "            .master(\"local[4]\") \\\n",
    "            .appName(\"df JulesVerne\") \\\n",
    "            .getOrCreate()\n",
    "\n",
    "sc = spark.sparkContext"
   ]
  },
  {
   "cell_type": "code",
   "execution_count": 23,
   "metadata": {},
   "outputs": [
    {
     "data": {
      "text/plain": [
       "DataFrame[attractions: string, reviews: string]"
      ]
     },
     "execution_count": 23,
     "metadata": {},
     "output_type": "execute_result"
    }
   ],
   "source": [
    "spark.createDataFrame(df_)"
   ]
  },
  {
   "cell_type": "code",
   "execution_count": 24,
   "metadata": {
    "collapsed": true
   },
   "outputs": [],
   "source": [
    "spark_df = _"
   ]
  },
  {
   "cell_type": "code",
   "execution_count": 25,
   "metadata": {},
   "outputs": [
    {
     "name": "stdout",
     "output_type": "stream",
     "text": [
      "+--------------------+--------------------+\n",
      "|         attractions|             reviews|\n",
      "+--------------------+--------------------+\n",
      "|Sydney_Harbour-Sy...|Apart from the ma...|\n",
      "|Sydney_Harbour-Sy...|Iconic sightseein...|\n",
      "|Sydney_Harbour-Sy...|Beautiful harbour...|\n",
      "|Sydney_Harbour-Sy...|We took a tour wi...|\n",
      "|Sydney_Harbour-Sy...|Visit the Harbor ...|\n",
      "|Sydney_Harbour-Sy...|This area, called...|\n",
      "|Sydney_Harbour-Sy...|enjoy a champagne...|\n",
      "|Sydney_Harbour-Sy...|went on a holiday...|\n",
      "|Sydney_Harbour-Sy...|The Sydney Harbou...|\n",
      "|Sydney_Harbour-Sy...|I have always wan...|\n",
      "|Sydney_Harbour-Sy...|Always special, l...|\n",
      "|Sydney_Harbour-Sy...|A must see while ...|\n",
      "|Sydney_Harbour-Sy...|Don't really know...|\n",
      "|Sydney_Harbour-Sy...|Loved our visit t...|\n",
      "|Sydney_Harbour-Sy...|Recommend catchin...|\n",
      "|Sydney_Harbour-Sy...|I have seen a num...|\n",
      "|Sydney_Harbour-Sy...|Located by many g...|\n",
      "|Sydney_Harbour-Sy...|Sydney Harbour is...|\n",
      "|Sydney_Harbour-Sy...|Fantastic trip. B...|\n",
      "|Sydney_Harbour-Sy...|So love Sydney Ha...|\n",
      "+--------------------+--------------------+\n",
      "only showing top 20 rows\n",
      "\n"
     ]
    }
   ],
   "source": [
    "spark_df.show()"
   ]
  },
  {
   "cell_type": "code",
   "execution_count": null,
   "metadata": {
    "collapsed": true
   },
   "outputs": [],
   "source": []
  },
  {
   "cell_type": "code",
   "execution_count": 34,
   "metadata": {
    "collapsed": true
   },
   "outputs": [],
   "source": [
    "df_sydney = spark_df.filter(spark_df.attractions == 'Sydney_Harbour-Sydney_New_South_Wales')"
   ]
  },
  {
   "cell_type": "code",
   "execution_count": 26,
   "metadata": {
    "collapsed": true
   },
   "outputs": [],
   "source": [
    "from pyspark.sql.functions import udf, col\n",
    "from pyspark.sql.types import ArrayType, StringType\n",
    "import string\n",
    "import unicodedata\n",
    "\n",
    "import nltk\n",
    "\n",
    "from nltk.tokenize import sent_tokenize\n",
    "from nltk.tokenize import word_tokenize\n",
    "from nltk.corpus import stopwords\n",
    "from nltk.stem.porter import PorterStemmer\n",
    "from nltk.stem.snowball import SnowballStemmer\n",
    "from nltk.util import ngrams\n",
    "from nltk import pos_tag\n",
    "from nltk import RegexpParser\n",
    "\n",
    "from pyspark.ml.feature import CountVectorizer\n",
    "from pyspark.ml.feature import IDF\n",
    "\n",
    "import sys\n",
    "\n",
    "def extract_bow_from_raw_text(text_as_string):\n",
    "    \"\"\"Extracts bag-of-words from a raw text string.\n",
    "    Parameters\n",
    "    ----------\n",
    "    text (str): a text document given as a string\n",
    "    Returns\n",
    "    -------\n",
    "    list : the list of the tokens extracted and filtered from the text\n",
    "    \"\"\"\n",
    "    if (text_as_string == None):\n",
    "        return []\n",
    "\n",
    "    if (len(text_as_string) < 1):\n",
    "        return []\n",
    "\n",
    "    if sys.version_info[0] < 3:\n",
    "        nfkd_form = unicodedata.normalize('NFKD', unicode(text_as_string))\n",
    "    else:\n",
    "        nfkd_form = unicodedata.normalize('NFKD', str(text_as_string))\n",
    "\n",
    "    text_input = str(nfkd_form.encode('ASCII', 'ignore'))\n",
    "\n",
    "    sent_tokens = sent_tokenize(text_input)\n",
    "\n",
    "    tokens = list(map(word_tokenize, sent_tokens))\n",
    "\n",
    "    sent_tags = list(map(pos_tag, tokens))\n",
    "\n",
    "    grammar = r\"\"\"\n",
    "        SENT: {<(J|N).*>}                # chunk sequences of proper nouns\n",
    "    \"\"\"\n",
    "\n",
    "    cp = RegexpParser(grammar)\n",
    "    ret_tokens = list()\n",
    "    stemmer_snowball = SnowballStemmer('english')\n",
    "\n",
    "    for sent in sent_tags:\n",
    "        tree = cp.parse(sent)\n",
    "        for subtree in tree.subtrees():\n",
    "            if subtree.label() == 'SENT':\n",
    "                t_tokenlist = [tpos[0].lower() for tpos in subtree.leaves()]\n",
    "                t_tokens_stemsnowball = list(map(stemmer_snowball.stem, t_tokenlist))\n",
    "                #t_token = \"-\".join(t_tokens_stemsnowball)\n",
    "                #ret_tokens.append(t_token)\n",
    "                ret_tokens.extend(t_tokens_stemsnowball)\n",
    "            #if subtree.label() == 'V2V': print(subtree)\n",
    "    #tokens_lower = [map(string.lower, sent) for sent in tokens]\n",
    "\n",
    "    return(ret_tokens)\n",
    "\n",
    "\n",
    "def indexing_pipeline(input_df, **kwargs):\n",
    "    \"\"\"Runs a full text indexing pipeline on a collection of texts contained in a DataFrame.\n",
    "    Parameters\n",
    "    ----------\n",
    "    input_df (DataFrame): a DataFrame that contains a field called 'text'\n",
    "    Returns\n",
    "    -------\n",
    "    df : the same DataFrames with a column called 'features' for each document\n",
    "    wordlist : the list of words in the vocabulary with their corresponding IDF\n",
    "    \"\"\"\n",
    "    inputCol_ = kwargs.get(\"inputCol\", \"reviews\")\n",
    "    vocabSize_ = kwargs.get(\"vocabSize\", 5000)\n",
    "    minDF_ = kwargs.get(\"minDF\", 2.0)\n",
    "\n",
    "    # ugly: to add that to our slave nodes so that it finds the bootstrapped nltk_data\n",
    "    nltk.data.path.append('/home/hadoop/nltk_data')\n",
    "\n",
    "    extract_bow_from_raw_text(\"\")  # ugly: for instanciating all dependencies of this function\n",
    "    tokenizer_udf = udf(extract_bow_from_raw_text, ArrayType(StringType()))\n",
    "    df_tokens = input_df.withColumn(\"bow\", tokenizer_udf(col(inputCol_)))\n",
    "\n",
    "    cv = CountVectorizer(inputCol=\"bow\", outputCol=\"vector_tf\", vocabSize=vocabSize_, minDF=minDF_)\n",
    "    cv_model = cv.fit(df_tokens)\n",
    "    df_features_tf = cv_model.transform(df_tokens)\n",
    "\n",
    "    idf = IDF(inputCol=\"vector_tf\", outputCol=\"features\")\n",
    "    idfModel = idf.fit(df_features_tf)\n",
    "    df_features = idfModel.transform(df_features_tf)\n",
    "\n",
    "    return(df_features, cv_model.vocabulary)\n",
    "\n",
    "\n",
    "#if (__name__ == \"__main__\"):\n",
    "#    spark = ps.sql.SparkSession.builder \\\n",
    "#                .master(\"local[4]\") \\\n",
    "#                .appName(\"df lecture\") \\\n",
    "#                .getOrCreate()\n",
    "\n",
    "#    dfMusical = spark_df\n",
    "#    df = spark_df.select('reviews', 'attractions').withColumnRenamed(\"reviewText\", \"text\").limit(100)\n",
    "\n",
    "#    df, wordlist = indexing_pipeline(df)\n",
    "\n",
    "#    print(\"wordlist={}\".format(wordlist[0:10]))"
   ]
  },
  {
   "cell_type": "code",
   "execution_count": 35,
   "metadata": {
    "collapsed": true
   },
   "outputs": [],
   "source": [
    "df_sydney_, ls_sydney = indexing_pipeline(df_sydney)"
   ]
  },
  {
   "cell_type": "code",
   "execution_count": 36,
   "metadata": {},
   "outputs": [
    {
     "data": {
      "text/plain": [
       "[u'harbour',\n",
       " u'sydney',\n",
       " u'more',\n",
       " u'ferri',\n",
       " u'opera',\n",
       " u'hous',\n",
       " u'bridg',\n",
       " u'view',\n",
       " u'beauti',\n",
       " u'great',\n",
       " u'place',\n",
       " u'day',\n",
       " u'time',\n",
       " u'harbor',\n",
       " u'cruis',\n",
       " u'mani',\n",
       " u'world',\n",
       " u'quay',\n",
       " u'circular',\n",
       " u'restaur',\n",
       " u'lot',\n",
       " u'best',\n",
       " u'area',\n",
       " u'water',\n",
       " u'boat',\n",
       " u'way',\n",
       " u'walk',\n",
       " u'night',\n",
       " u'citi',\n",
       " u'man']"
      ]
     },
     "execution_count": 36,
     "metadata": {},
     "output_type": "execute_result"
    }
   ],
   "source": [
    "ls_sydney[:30]"
   ]
  },
  {
   "cell_type": "code",
   "execution_count": 46,
   "metadata": {},
   "outputs": [
    {
     "data": {
      "text/plain": [
       "886"
      ]
     },
     "execution_count": 46,
     "metadata": {},
     "output_type": "execute_result"
    }
   ],
   "source": [
    "len(ls)"
   ]
  },
  {
   "cell_type": "code",
   "execution_count": 30,
   "metadata": {
    "collapsed": true
   },
   "outputs": [],
   "source": [
    "df_angkor = spark_df.filter(spark_df.attractions == 'Angkor_Thom-Siem_Reap_Siem_Reap_Province')"
   ]
  },
  {
   "cell_type": "code",
   "execution_count": 31,
   "metadata": {
    "collapsed": true
   },
   "outputs": [],
   "source": [
    "df_angkor_2, ls_angkor = indexing_pipeline(df_angkor)"
   ]
  },
  {
   "cell_type": "code",
   "execution_count": 32,
   "metadata": {},
   "outputs": [
    {
     "data": {
      "text/plain": [
       "[u'templ',\n",
       " u'angkor',\n",
       " u'more',\n",
       " u'thom',\n",
       " u'wat',\n",
       " u'place',\n",
       " u'mani',\n",
       " u'day',\n",
       " u'time',\n",
       " u'guid',\n",
       " u'great',\n",
       " u'beauti',\n",
       " u'bayon',\n",
       " u'amaz',\n",
       " u'citi',\n",
       " u'area',\n",
       " u'site',\n",
       " u'complex',\n",
       " u'tour',\n",
       " u'lot',\n",
       " u'other',\n",
       " u'visit',\n",
       " u'gate',\n",
       " u'histori',\n",
       " u'carv',\n",
       " u'tuk',\n",
       " u'good',\n",
       " u'wall',\n",
       " u'siem',\n",
       " u'reap']"
      ]
     },
     "execution_count": 32,
     "metadata": {},
     "output_type": "execute_result"
    }
   ],
   "source": [
    "ls_angkor[:30]"
   ]
  },
  {
   "cell_type": "code",
   "execution_count": 47,
   "metadata": {},
   "outputs": [
    {
     "name": "stdout",
     "output_type": "stream",
     "text": [
      "root\n",
      " |-- attractions: string (nullable = true)\n",
      " |-- reviews: string (nullable = true)\n",
      " |-- bow: array (nullable = true)\n",
      " |    |-- element: string (containsNull = true)\n",
      " |-- vector_tf: vector (nullable = true)\n",
      " |-- features: vector (nullable = true)\n",
      "\n"
     ]
    }
   ],
   "source": [
    "df2.printSchema()"
   ]
  },
  {
   "cell_type": "code",
   "execution_count": 27,
   "metadata": {
    "collapsed": true
   },
   "outputs": [],
   "source": [
    "df_stone_circles = spark_df.filter(spark_df.attractions == 'Stone_Circles_of_Senegambia-Serekunda_Banjul_Division')"
   ]
  },
  {
   "cell_type": "code",
   "execution_count": 28,
   "metadata": {
    "collapsed": true
   },
   "outputs": [],
   "source": [
    "df_stonecircles_2, ls = indexing_pipeline(df_stone_circles)"
   ]
  },
  {
   "cell_type": "code",
   "execution_count": 29,
   "metadata": {},
   "outputs": [
    {
     "data": {
      "text/plain": [
       "[u'stone',\n",
       " u'circl',\n",
       " u'more',\n",
       " u'trip',\n",
       " u'wassu',\n",
       " u'part',\n",
       " u'georgetown',\n",
       " u'site',\n",
       " u'sure',\n",
       " u'day',\n",
       " u'farafenni',\n",
       " u'small',\n",
       " u'gambia',\n",
       " u'hour',\n",
       " u'littl',\n",
       " u'kombo/serrukunda',\n",
       " u'local',\n",
       " u'place',\n",
       " u'way',\n",
       " u'inform',\n",
       " u'import',\n",
       " u'worth',\n",
       " u'divers',\n",
       " u'stoneman',\n",
       " u'pleasant',\n",
       " u'fascin',\n",
       " u'life',\n",
       " u'guid',\n",
       " u'heritag',\n",
       " u'stop']"
      ]
     },
     "execution_count": 29,
     "metadata": {},
     "output_type": "execute_result"
    }
   ],
   "source": [
    "ls[:30]"
   ]
  },
  {
   "cell_type": "code",
   "execution_count": null,
   "metadata": {
    "collapsed": true
   },
   "outputs": [],
   "source": []
  }
 ],
 "metadata": {
  "kernelspec": {
   "display_name": "Python 2",
   "language": "python",
   "name": "python2"
  },
  "language_info": {
   "codemirror_mode": {
    "name": "ipython",
    "version": 2
   },
   "file_extension": ".py",
   "mimetype": "text/x-python",
   "name": "python",
   "nbconvert_exporter": "python",
   "pygments_lexer": "ipython2",
   "version": "2.7.13"
  }
 },
 "nbformat": 4,
 "nbformat_minor": 2
}
