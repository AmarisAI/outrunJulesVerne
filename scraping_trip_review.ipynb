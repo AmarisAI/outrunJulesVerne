{
 "cells": [
  {
   "cell_type": "code",
   "execution_count": 1,
   "metadata": {
    "collapsed": true
   },
   "outputs": [],
   "source": [
    "# import the Requests HTTP library\n",
    "import requests\n",
    "\n",
    "# import the Beautiful Soup module \n",
    "from bs4 import BeautifulSoup"
   ]
  },
  {
   "cell_type": "markdown",
   "metadata": {},
   "source": [
    "# 1\\. Initial Tests to understand the HTML structure for Webscraping\n",
    "\n",
    "\"requests\" allows us to establish access to a given html.  Then, BeautifulSoup is used to parse html in a readable format.  This is used throughout scraping process, so a function \"soupify\" is written.  \n",
    "\n",
    "useful sources: https://www.crummy.com/software/BeautifulSoup/bs4/doc/"
   ]
  },
  {
   "cell_type": "code",
   "execution_count": 2,
   "metadata": {
    "collapsed": true
   },
   "outputs": [],
   "source": [
    "r = requests.get(\"https://www.tripadvisor.com/Attraction_Review-g295424-d676922-Reviews-Burj_Khalifa-Dubai_Emirate_of_Dubai.html\")"
   ]
  },
  {
   "cell_type": "code",
   "execution_count": 3,
   "metadata": {
    "collapsed": true
   },
   "outputs": [],
   "source": [
    "soup = BeautifulSoup(r.content, 'html.parser')"
   ]
  },
  {
   "cell_type": "code",
   "execution_count": 4,
   "metadata": {
    "collapsed": true
   },
   "outputs": [],
   "source": [
    "s = soup.prettify()"
   ]
  },
  {
   "cell_type": "code",
   "execution_count": 5,
   "metadata": {},
   "outputs": [
    {
     "name": "stdout",
     "output_type": "stream",
     "text": [
      "<title>Burj Khalifa (Dubai, United Arab Emirates): Top Tips Before You Go (with Photos) - TripAdvisor</title>\n"
     ]
    }
   ],
   "source": [
    "print soup.title"
   ]
  },
  {
   "cell_type": "code",
   "execution_count": 6,
   "metadata": {
    "collapsed": true
   },
   "outputs": [],
   "source": [
    "def soupify(url):\n",
    "    r = requests.get(url)\n",
    "    soup = BeautifulSoup(r.content, 'html.parser')\n",
    "    soup.prettify()\n",
    "    return r, soup"
   ]
  },
  {
   "cell_type": "code",
   "execution_count": 7,
   "metadata": {
    "collapsed": true
   },
   "outputs": [],
   "source": [
    "r, soup = soupify(\"https://www.tripadvisor.com/Attraction_Review-g295424-d676922-Reviews-Burj_Khalifa-Dubai_Emirate_of_Dubai.html\")"
   ]
  },
  {
   "cell_type": "code",
   "execution_count": 8,
   "metadata": {},
   "outputs": [
    {
     "data": {
      "text/plain": [
       "<title>Burj Khalifa (Dubai, United Arab Emirates): Top Tips Before You Go (with Photos) - TripAdvisor</title>"
      ]
     },
     "execution_count": 8,
     "metadata": {},
     "output_type": "execute_result"
    }
   ],
   "source": [
    "#testing to verify if the function has worked\n",
    "soup.title"
   ]
  },
  {
   "cell_type": "markdown",
   "metadata": {},
   "source": [
    "# 2\\. Scraping TripAdvisor\n",
    "\n",
    "For this project, the reviews for TripAdvisor is scraped.  The reviews are marked with anchor tag 'a' and the class label 'review_count' is used to access urls for reviews.  The review addresses are then stored in a list format.  The function 'rev_address' is defined for this purpose.  As an initial step, the reviews for Botswana are scraped."
   ]
  },
  {
   "cell_type": "code",
   "execution_count": 9,
   "metadata": {
    "collapsed": true
   },
   "outputs": [],
   "source": [
    "r, soup = soupify(\"https://www.tripadvisor.com/Attractions-g293766-Activities-Botswana.html\")"
   ]
  },
  {
   "cell_type": "code",
   "execution_count": 10,
   "metadata": {
    "collapsed": true
   },
   "outputs": [],
   "source": [
    "def rev_address(r, soup):\n",
    "    r_links = []\n",
    "    for a in soup.find_all('a','review_count'):\n",
    "        r_links.append(a['href'])\n",
    "    return r_links"
   ]
  },
  {
   "cell_type": "code",
   "execution_count": 11,
   "metadata": {
    "collapsed": true
   },
   "outputs": [],
   "source": [
    "r_links = rev_address(r,soup)"
   ]
  },
  {
   "cell_type": "code",
   "execution_count": 12,
   "metadata": {},
   "outputs": [
    {
     "data": {
      "text/plain": [
       "[u'/Attraction_Review-g317055-d1643251-Reviews-Okavango_Delta-Maun_North_West_District.html#REVIEWS',\n",
       " u'/Attraction_Review-g316101-d553850-Reviews-Moremi_Wildlife_Reserve-Moremi_Game_Reserve_Okavango_Delta_North_West_District.html#REVIEWS',\n",
       " u'/Attraction_Review-g297318-d12172119-Reviews-Chobe_National_Park-Kasane_North_West_District.html#REVIEWS',\n",
       " u'/Attraction_Review-g472669-d478945-Reviews-Savute_Reserve-Chobe_National_Park_North_West_District.html#REVIEWS',\n",
       " u'/Attraction_Review-g293767-d3396948-Reviews-Three_Chiefs_Statues-Gaborone_South_East_District.html#REVIEWS',\n",
       " u'/Attraction_Review-g472673-d1171922-Reviews-Khwai_River_Bridge-Okavango_Delta_North_West_District.html#REVIEWS',\n",
       " u'/Attraction_Review-g480161-d311243-Reviews-Tsodilo_Hills-Shakawe_North_West_District.html#REVIEWS',\n",
       " u'/Attraction_Review-g293767-d3247057-Reviews-ISKCON_Gaborone-Gaborone_South_East_District.html#REVIEWS',\n",
       " u'/Attraction_Review-g317055-d1643251-Reviews-Okavango_Delta-Maun_North_West_District.html#REVIEWS',\n",
       " u'/Attraction_Review-g316101-d553850-Reviews-Moremi_Wildlife_Reserve-Moremi_Game_Reserve_Okavango_Delta_North_West_District.html#REVIEWS',\n",
       " u'/Attraction_Review-g472669-d478945-Reviews-Savute_Reserve-Chobe_National_Park_North_West_District.html#REVIEWS',\n",
       " u'/Attraction_Review-g472670-d3259396-Reviews-Makgadikgadi_Salt_Pan-Makgadikgadi_Pans_National_Park_Central_District.html#REVIEWS']"
      ]
     },
     "execution_count": 12,
     "metadata": {},
     "output_type": "execute_result"
    }
   ],
   "source": [
    "r_links"
   ]
  },
  {
   "cell_type": "markdown",
   "metadata": {},
   "source": [
    "Since these urls are not in an acceptable format for requests, we need to concatenate the base url to these addresses.  Function 'format_url' is defined for this purpose"
   ]
  },
  {
   "cell_type": "code",
   "execution_count": 13,
   "metadata": {
    "collapsed": true
   },
   "outputs": [],
   "source": [
    "def format_url(r_links):\n",
    "    base = 'http://www.tripadvisor.com{}'\n",
    "    for i in range(len(r_links)):\n",
    "        r_links[i] = base.format(r_links[i])\n",
    "    return r_links"
   ]
  },
  {
   "cell_type": "code",
   "execution_count": 14,
   "metadata": {
    "collapsed": true
   },
   "outputs": [],
   "source": [
    "#to confirm concatenation\n",
    "r_links = format_url(r_links)"
   ]
  },
  {
   "cell_type": "code",
   "execution_count": 15,
   "metadata": {},
   "outputs": [
    {
     "name": "stdout",
     "output_type": "stream",
     "text": [
      "http://www.tripadvisor.com/Attraction_Review-g317055-d1643251-Reviews-Okavango_Delta-Maun_North_West_District.html#REVIEWS\n",
      "http://www.tripadvisor.com/Attraction_Review-g316101-d553850-Reviews-Moremi_Wildlife_Reserve-Moremi_Game_Reserve_Okavango_Delta_North_West_District.html#REVIEWS\n",
      "http://www.tripadvisor.com/Attraction_Review-g297318-d12172119-Reviews-Chobe_National_Park-Kasane_North_West_District.html#REVIEWS\n",
      "http://www.tripadvisor.com/Attraction_Review-g472669-d478945-Reviews-Savute_Reserve-Chobe_National_Park_North_West_District.html#REVIEWS\n",
      "http://www.tripadvisor.com/Attraction_Review-g293767-d3396948-Reviews-Three_Chiefs_Statues-Gaborone_South_East_District.html#REVIEWS\n",
      "http://www.tripadvisor.com/Attraction_Review-g472673-d1171922-Reviews-Khwai_River_Bridge-Okavango_Delta_North_West_District.html#REVIEWS\n",
      "http://www.tripadvisor.com/Attraction_Review-g480161-d311243-Reviews-Tsodilo_Hills-Shakawe_North_West_District.html#REVIEWS\n",
      "http://www.tripadvisor.com/Attraction_Review-g293767-d3247057-Reviews-ISKCON_Gaborone-Gaborone_South_East_District.html#REVIEWS\n",
      "http://www.tripadvisor.com/Attraction_Review-g317055-d1643251-Reviews-Okavango_Delta-Maun_North_West_District.html#REVIEWS\n",
      "http://www.tripadvisor.com/Attraction_Review-g316101-d553850-Reviews-Moremi_Wildlife_Reserve-Moremi_Game_Reserve_Okavango_Delta_North_West_District.html#REVIEWS\n",
      "http://www.tripadvisor.com/Attraction_Review-g472669-d478945-Reviews-Savute_Reserve-Chobe_National_Park_North_West_District.html#REVIEWS\n",
      "http://www.tripadvisor.com/Attraction_Review-g472670-d3259396-Reviews-Makgadikgadi_Salt_Pan-Makgadikgadi_Pans_National_Park_Central_District.html#REVIEWS\n"
     ]
    }
   ],
   "source": [
    "print(\"\\n\".join(r_links))"
   ]
  },
  {
   "cell_type": "markdown",
   "metadata": {},
   "source": [
    "# 3\\. Scraping Reviews for Okavango Delta trips from Botswana category"
   ]
  },
  {
   "cell_type": "code",
   "execution_count": 16,
   "metadata": {},
   "outputs": [
    {
     "data": {
      "text/plain": [
       "'http://www.tripadvisor.com/Attraction_Review-g317055-d1643251-Reviews-Okavango_Delta-Maun_North_West_District.html#REVIEWS'"
      ]
     },
     "execution_count": 16,
     "metadata": {},
     "output_type": "execute_result"
    }
   ],
   "source": [
    "r_links[0]"
   ]
  },
  {
   "cell_type": "code",
   "execution_count": 17,
   "metadata": {
    "collapsed": true
   },
   "outputs": [],
   "source": [
    "r, soup = soupify(r_links[0])"
   ]
  },
  {
   "cell_type": "markdown",
   "metadata": {},
   "source": [
    "By inspecting above url, I notived that the reviews are within tag 'p', so I select for it: "
   ]
  },
  {
   "cell_type": "code",
   "execution_count": 18,
   "metadata": {
    "collapsed": true
   },
   "outputs": [],
   "source": [
    "p_list = soup.find_all('p', 'partial_entry')"
   ]
  },
  {
   "cell_type": "markdown",
   "metadata": {},
   "source": [
    "Below prints out an example entry of a review:"
   ]
  },
  {
   "cell_type": "code",
   "execution_count": 19,
   "metadata": {},
   "outputs": [
    {
     "data": {
      "text/plain": [
       "<p class=\"partial_entry\">We had an overnight safari with games drives. We saw elephants, hippos, giraffes, many birds, crocs, many kinds of antelope and even a jackal/wild dog with a freshly killed impala! Our guides were fantastic. Falling asleep listening to the hippos chatter and being woken in...<span class=\"taLnk ulBlueLinks\" onclick=\"widgetEvCall('handlers.clickExpand',event,this);\">More</span></p>"
      ]
     },
     "execution_count": 19,
     "metadata": {},
     "output_type": "execute_result"
    }
   ],
   "source": [
    "p_list[3]"
   ]
  },
  {
   "cell_type": "markdown",
   "metadata": {},
   "source": [
    "For each url, there are 10 reviews stored:"
   ]
  },
  {
   "cell_type": "code",
   "execution_count": 20,
   "metadata": {},
   "outputs": [
    {
     "data": {
      "text/plain": [
       "10"
      ]
     },
     "execution_count": 20,
     "metadata": {},
     "output_type": "execute_result"
    }
   ],
   "source": [
    "len(p_list)"
   ]
  },
  {
   "cell_type": "markdown",
   "metadata": {},
   "source": [
    "Then, this is something we can use repeatedly as well, so we define a function:"
   ]
  },
  {
   "cell_type": "code",
   "execution_count": 21,
   "metadata": {
    "collapsed": true
   },
   "outputs": [],
   "source": [
    "def list_reviews(r, soup):\n",
    "    p_list = soup.find_all('p', 'partial_entry')\n",
    "    return p_list"
   ]
  },
  {
   "cell_type": "code",
   "execution_count": 22,
   "metadata": {
    "collapsed": true
   },
   "outputs": [],
   "source": [
    "reviews = list_reviews(r, soup)"
   ]
  },
  {
   "cell_type": "code",
   "execution_count": 23,
   "metadata": {
    "collapsed": true
   },
   "outputs": [],
   "source": [
    "#need to revise below:"
   ]
  },
  {
   "cell_type": "code",
   "execution_count": 24,
   "metadata": {
    "collapsed": true
   },
   "outputs": [],
   "source": [
    "for i in range(len(p_list)):\n",
    "    p_list[i] = p_list[i].string"
   ]
  },
  {
   "cell_type": "code",
   "execution_count": 25,
   "metadata": {},
   "outputs": [
    {
     "data": {
      "text/plain": [
       "[None,\n",
       " u'The diversity of the area has to be seen and experienced (you will not be disappointed), as it is truly nature (and Africa) at its best.\\nIt will leave you wanting more, much more!!!',\n",
       " None,\n",
       " None,\n",
       " None,\n",
       " None,\n",
       " u'Is a amazing experience! I did the airplane and the next day the helicopter and is speechless. I recommend this activities. Helicopter is more expensive but worth it!',\n",
       " None,\n",
       " u'fantastic sights, mokoro canoe definitely ideal for this, lots of animals close by and fabulous weather',\n",
       " None]"
      ]
     },
     "execution_count": 25,
     "metadata": {},
     "output_type": "execute_result"
    }
   ],
   "source": [
    "p_list"
   ]
  },
  {
   "cell_type": "markdown",
   "metadata": {},
   "source": [
    "While looking for more reviews, I noticed that 10 sets of reviews are stored in separate urls marked by 'Reviews-or10', 'Reviews-or20', 'Reviews-or30', and so on.  Then, we need to manipulate urls for right links.  This is something that could be done repeatedly as well, so we may define a function"
   ]
  },
  {
   "cell_type": "code",
   "execution_count": 26,
   "metadata": {},
   "outputs": [
    {
     "data": {
      "text/plain": [
       "62"
      ]
     },
     "execution_count": 26,
     "metadata": {},
     "output_type": "execute_result"
    }
   ],
   "source": [
    "ind = r_links[0].find('Reviews-')\n",
    "ind"
   ]
  },
  {
   "cell_type": "code",
   "execution_count": 27,
   "metadata": {},
   "outputs": [
    {
     "name": "stdout",
     "output_type": "stream",
     "text": [
      "http://www.tripadvisor.com/Attraction_Review-g317055-d1643251-Reviews-or10-Okavango_Delta-Maun_North_West_District.html#REVIEWS\n"
     ]
    }
   ],
   "source": [
    "link_new = r_links[0][:ind+8]+'or10-'+r_links[0][ind+8:]\n",
    "print link_new"
   ]
  },
  {
   "cell_type": "code",
   "execution_count": 28,
   "metadata": {
    "collapsed": true
   },
   "outputs": [],
   "source": [
    "def pgs_reviews_url(link_old, page):\n",
    "    ind = r_links[0].find('Reviews-')\n",
    "    link_new = r_links[0][:ind+8]+page+r_links[0][ind+8:]\n",
    "    return link_new"
   ]
  },
  {
   "cell_type": "code",
   "execution_count": 29,
   "metadata": {},
   "outputs": [
    {
     "name": "stdout",
     "output_type": "stream",
     "text": [
      "http://www.tripadvisor.com/Attraction_Review-g317055-d1643251-Reviews-or10-Okavango_Delta-Maun_North_West_District.html#REVIEWS\n"
     ]
    }
   ],
   "source": [
    "link_new = pgs_reviews_url(r_links[0], 'or10-')\n",
    "print link_new"
   ]
  },
  {
   "cell_type": "code",
   "execution_count": 30,
   "metadata": {
    "collapsed": true
   },
   "outputs": [],
   "source": [
    "r, soup = soupify(link_new)"
   ]
  },
  {
   "cell_type": "code",
   "execution_count": 31,
   "metadata": {
    "collapsed": true
   },
   "outputs": [],
   "source": [
    "pg2_reviews = list_reviews(r, soup)"
   ]
  },
  {
   "cell_type": "code",
   "execution_count": 32,
   "metadata": {},
   "outputs": [
    {
     "data": {
      "text/plain": [
       "<p class=\"partial_entry\">Go to the delta in high season when it's full, take a ride on a mokoro, marvel at how the system works and how all the boatmen know the way around the delta. Watch out for crocs, but don't rock the mokoro! Catch a beautiful...<span class=\"taLnk ulBlueLinks\" onclick=\"widgetEvCall('handlers.clickExpand',event,this);\">More</span></p>"
      ]
     },
     "execution_count": 32,
     "metadata": {},
     "output_type": "execute_result"
    }
   ],
   "source": [
    "pg2_reviews[0]"
   ]
  },
  {
   "cell_type": "code",
   "execution_count": 33,
   "metadata": {},
   "outputs": [
    {
     "data": {
      "text/plain": [
       "10"
      ]
     },
     "execution_count": 33,
     "metadata": {},
     "output_type": "execute_result"
    }
   ],
   "source": [
    "#to verify that the next page also contains 10 reviews\n",
    "len(pg2_reviews)"
   ]
  },
  {
   "cell_type": "code",
   "execution_count": 34,
   "metadata": {
    "collapsed": true
   },
   "outputs": [],
   "source": [
    "def pg_urltag(endpg):\n",
    "    '''input endpg is the end page number\n",
    "    this function returns all url tags for \n",
    "    pages of url\n",
    "    '''\n",
    "    pgs = ['']\n",
    "\n",
    "    for i in range(1,endpg):\n",
    "        pgs.append('or{}0-'.format(i))\n",
    "    return pgs"
   ]
  },
  {
   "cell_type": "code",
   "execution_count": 35,
   "metadata": {
    "collapsed": true
   },
   "outputs": [],
   "source": [
    "pg_url = pg_urltag(20)"
   ]
  },
  {
   "cell_type": "code",
   "execution_count": 36,
   "metadata": {},
   "outputs": [
    {
     "data": {
      "text/plain": [
       "['',\n",
       " 'or10-',\n",
       " 'or20-',\n",
       " 'or30-',\n",
       " 'or40-',\n",
       " 'or50-',\n",
       " 'or60-',\n",
       " 'or70-',\n",
       " 'or80-',\n",
       " 'or90-',\n",
       " 'or100-',\n",
       " 'or110-',\n",
       " 'or120-',\n",
       " 'or130-',\n",
       " 'or140-',\n",
       " 'or150-',\n",
       " 'or160-',\n",
       " 'or170-',\n",
       " 'or180-',\n",
       " 'or190-']"
      ]
     },
     "execution_count": 36,
     "metadata": {},
     "output_type": "execute_result"
    }
   ],
   "source": [
    "pg_url"
   ]
  },
  {
   "cell_type": "markdown",
   "metadata": {},
   "source": [
    "# Moving Global: Countries!\n",
    "\n",
    "Eventually, we want to scrape for the selected countries.  I selected the below countries, and a map shows the selected regions in blue:\n",
    "![Selected countries for this project](amCharts.png)\n",
    "\n",
    "The countries with travel warnings are avoided: see the state department travel warnings for 2017.  Example countries are Syria (terrorism threats), Central Africa (wars), North Korea, etc.  \n",
    "\n",
    "Places are picked using resources below:\n",
    "   - 1000 places to see before you die, patricia shultz\n",
    "   - tripadvisor's top 25 rising destinations of 2017\n",
    "   - personal taste\n",
    "\n",
    "Gathered lists of urls by continents are defined in this section."
   ]
  },
  {
   "cell_type": "code",
   "execution_count": 37,
   "metadata": {
    "collapsed": true
   },
   "outputs": [],
   "source": [
    "oceania = ['https://www.tripadvisor.com/Attractions-g255055-Activities-Australia.html',\n",
    "          'https://www.tripadvisor.com/Attractions-g294338-Activities-French_Polynesia.html',\n",
    "          'https://www.tripadvisor.com/Attractions-g255104-Activities-New_Zealand.html',\n",
    "          'https://www.tripadvisor.com/Attractions-g294115-Activities-Papua_New_Guinea.html'\n",
    "          ]"
   ]
  },
  {
   "cell_type": "code",
   "execution_count": 38,
   "metadata": {},
   "outputs": [
    {
     "data": {
      "text/plain": [
       "4"
      ]
     },
     "execution_count": 38,
     "metadata": {},
     "output_type": "execute_result"
    }
   ],
   "source": [
    "len(oceania)"
   ]
  },
  {
   "cell_type": "code",
   "execution_count": 39,
   "metadata": {
    "collapsed": true
   },
   "outputs": [],
   "source": [
    "asia = ['https://www.tripadvisor.com/Attractions-g293939-Activities-Cambodia.html',\n",
    "       'https://www.tripadvisor.com/Attractions-g294211-Activities-China.html',\n",
    "       'https://www.tripadvisor.com/Attractions-g293860-Activities-India.html',\n",
    "       'https://www.tripadvisor.com/Attractions-g294225-Activities-Indonesia.html',\n",
    "       'https://www.tripadvisor.com/Attractions-g293977-Activities-Israel.html',\n",
    "       'https://www.tripadvisor.com/Attractions-g294232-Activities-Japan.html',\n",
    "       'https://www.tripadvisor.com/Attractions-g293951-Activities-Malaysia.html',\n",
    "       'https://www.tripadvisor.com/Attractions-g293955-Activities-Mongolia.html',\n",
    "       'https://www.tripadvisor.com/Attractions-g293889-Activities-Nepal.html',\n",
    "       'https://www.tripadvisor.com/Attractions-g294006-Activities-Oman.html',\n",
    "       'https://www.tripadvisor.com/Attractions-g294196-Activities-South_Korea.html',\n",
    "       'https://www.tripadvisor.com/Attractions-g293915-Activities-Thailand.html',\n",
    "       'https://www.tripadvisor.com/Attractions-g294012-Activities-United_Arab_Emirates.html'\n",
    "       ]"
   ]
  },
  {
   "cell_type": "code",
   "execution_count": 40,
   "metadata": {},
   "outputs": [
    {
     "data": {
      "text/plain": [
       "13"
      ]
     },
     "execution_count": 40,
     "metadata": {},
     "output_type": "execute_result"
    }
   ],
   "source": [
    "len(asia)"
   ]
  },
  {
   "cell_type": "code",
   "execution_count": 41,
   "metadata": {
    "collapsed": true
   },
   "outputs": [],
   "source": [
    "africa = ['https://www.tripadvisor.com/Attractions-g293717-Activities-Algeria.html',\n",
    "         'https://www.tripadvisor.com/Attractions-g293762-Activities-Angola.html',\n",
    "         'https://www.tripadvisor.com/Attractions-g293766-Activities-Botswana.html',\n",
    "         'https://www.tripadvisor.com/Attractions-g294192-Activities-Cote_d_Ivoire.html',\n",
    "         'https://www.tripadvisor.com/Attractions-g294200-Activities-Egypt.html',\n",
    "         'https://www.tripadvisor.com/Attractions-g294206-Activities-Kenya.html',\n",
    "         'https://www.tripadvisor.com/Attractions-g293804-Activities-Liberia.html',\n",
    "         'https://www.tripadvisor.com/Attractions-g293808-Activities-Madagascar.html',\n",
    "         'https://www.tripadvisor.com/Attractions-g293730-Activities-Morocco.html',\n",
    "         'https://www.tripadvisor.com/Attractions-g293820-Activities-Namibia.html',\n",
    "         'https://www.tripadvisor.com/Attractions-g293830-Activities-Senegal.html',\n",
    "         'https://www.tripadvisor.com/Attractions-g293832-Activities-Sierra_Leone.html',\n",
    "         'https://www.tripadvisor.com/Attractions-g293740-Activities-South_Africa.html',\n",
    "         'https://www.tripadvisor.com/Attractions-g293747-Activities-Tanzania.html'\n",
    "         ]\n",
    "#possibly get rid of Liberia?"
   ]
  },
  {
   "cell_type": "code",
   "execution_count": 42,
   "metadata": {},
   "outputs": [
    {
     "data": {
      "text/plain": [
       "14"
      ]
     },
     "execution_count": 42,
     "metadata": {},
     "output_type": "execute_result"
    }
   ],
   "source": [
    "len(africa)"
   ]
  },
  {
   "cell_type": "code",
   "execution_count": 43,
   "metadata": {
    "collapsed": true
   },
   "outputs": [],
   "source": [
    "sa = ['https://www.tripadvisor.com/Attractions-g294266-Activities-Argentina.html',\n",
    "      'https://www.tripadvisor.com/Attractions-g294280-Activities-Brazil.html',\n",
    "      'https://www.tripadvisor.com/Attractions-g294291-Activities-Chile.html',\n",
    "      'https://www.tripadvisor.com/Attractions-g294311-Activities-Peru.html'\n",
    "     ]"
   ]
  },
  {
   "cell_type": "code",
   "execution_count": 44,
   "metadata": {},
   "outputs": [
    {
     "data": {
      "text/plain": [
       "4"
      ]
     },
     "execution_count": 44,
     "metadata": {},
     "output_type": "execute_result"
    }
   ],
   "source": [
    "len(sa)"
   ]
  },
  {
   "cell_type": "code",
   "execution_count": 45,
   "metadata": {
    "collapsed": true
   },
   "outputs": [],
   "source": [
    "na = ['https://www.tripadvisor.com/Attractions-g291959-Activities-Belize.html',\n",
    "      'https://www.tripadvisor.com/Attractions-g153339-Activities-Canada.html',\n",
    "      'https://www.tripadvisor.com/Attractions-g147364-Activities-Cayman_Islands.html',\n",
    "      'https://www.tripadvisor.com/Attractions-g291982-Activities-Costa_Rica.html',\n",
    "      'https://www.tripadvisor.com/Attractions-g147270-Activities-Cuba.html',\n",
    "      'https://www.tripadvisor.com/Attractions-g147277-Activities-Curacao.html',\n",
    "      'https://www.tripadvisor.com/Attractions-g295111-Activities-Greenland.html',\n",
    "      'https://www.tripadvisor.com/Attractions-g147295-Activities-Grenada.html',\n",
    "      'https://www.tripadvisor.com/Attractions-g292016-Activities-Honduras.html',\n",
    "      'https://www.tripadvisor.com/Attractions-g150768-Activities-Mexico.html',\n",
    "      'https://www.tripadvisor.com/Attractions-g294477-Activities-Nicaragua.html',\n",
    "      'https://www.tripadvisor.com/Attractions-g294479-Activities-Panama.html',\n",
    "      'https://www.tripadvisor.com/Attractions-g191-Activities-United_States.html'\n",
    "     ]\n",
    "#cuba?!\n",
    "#big countries - US, CANADA"
   ]
  },
  {
   "cell_type": "code",
   "execution_count": 46,
   "metadata": {},
   "outputs": [
    {
     "data": {
      "text/plain": [
       "13"
      ]
     },
     "execution_count": 46,
     "metadata": {},
     "output_type": "execute_result"
    }
   ],
   "source": [
    "len(na)"
   ]
  },
  {
   "cell_type": "code",
   "execution_count": 47,
   "metadata": {
    "collapsed": true
   },
   "outputs": [],
   "source": [
    "europe = ['https://www.tripadvisor.com/Attractions-g190410-Activities-Austria.html',\n",
    "      'https://www.tripadvisor.com/Attractions-g294451-Activities-Bulgaria.html',\n",
    "      'https://www.tripadvisor.com/Attractions-g274684-Activities-Czech_Republic.html',\n",
    "      'https://www.tripadvisor.com/Attractions-g189512-Activities-Denmark.html',\n",
    "      'https://www.tripadvisor.com/Attractions-g274952-Activities-Estonia.html',\n",
    "      'https://www.tripadvisor.com/Attractions-g189896-Activities-Finland.html',\n",
    "      'https://www.tripadvisor.com/Attractions-g187070-Activities-France.html',\n",
    "      'https://www.tripadvisor.com/Attractions-g187275-Activities-Germany.html',\n",
    "      'https://www.tripadvisor.com/Attractions-g189398-Activities-Greece.html',\n",
    "      'https://www.tripadvisor.com/Attractions-g274881-Activities-Hungary.html',\n",
    "      'https://www.tripadvisor.com/Attractions-g189952-Activities-Iceland.html',\n",
    "      'https://www.tripadvisor.com/Attractions-g187768-Activities-Italy.html',\n",
    "      'https://www.tripadvisor.com/Attractions-g190455-Activities-Norway.html',\n",
    "      'https://www.tripadvisor.com/Attractions-g189100-Activities-Portugal.html',\n",
    "      'https://www.tripadvisor.com/Attractions-g294457-Activities-Romania.html',\n",
    "      'https://www.tripadvisor.com/Attractions-g294459-Activities-Russia.html',\n",
    "      'https://www.tripadvisor.com/Attractions-g294471-Activities-Serbia.html',\n",
    "      'https://www.tripadvisor.com/Attractions-g187427-Activities-Spain.html',\n",
    "      'https://www.tripadvisor.com/Attractions-g189806-Activities-Sweden.html',\n",
    "      'https://www.tripadvisor.com/Attractions-g293969-Activities-Turkey.html',\n",
    "      'https://www.tripadvisor.com/Attractions-g186216-Activities-United_Kingdom.html'\n",
    "     ]"
   ]
  },
  {
   "cell_type": "code",
   "execution_count": 48,
   "metadata": {},
   "outputs": [
    {
     "data": {
      "text/plain": [
       "21"
      ]
     },
     "execution_count": 48,
     "metadata": {},
     "output_type": "execute_result"
    }
   ],
   "source": [
    "len(europe)"
   ]
  },
  {
   "cell_type": "code",
   "execution_count": null,
   "metadata": {
    "collapsed": true
   },
   "outputs": [],
   "source": []
  }
 ],
 "metadata": {
  "kernelspec": {
   "display_name": "Python 2",
   "language": "python",
   "name": "python2"
  },
  "language_info": {
   "codemirror_mode": {
    "name": "ipython",
    "version": 2
   },
   "file_extension": ".py",
   "mimetype": "text/x-python",
   "name": "python",
   "nbconvert_exporter": "python",
   "pygments_lexer": "ipython2",
   "version": "2.7.13"
  }
 },
 "nbformat": 4,
 "nbformat_minor": 2
}
