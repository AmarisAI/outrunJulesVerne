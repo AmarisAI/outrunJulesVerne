{
 "cells": [
  {
   "cell_type": "code",
   "execution_count": 1,
   "metadata": {
    "collapsed": true
   },
   "outputs": [],
   "source": [
    "#initial imports\n",
    "import csv\n",
    "import pandas as pd\n",
    "import numpy as np\n",
    "\n",
    "import pyspark as ps    # for the pyspark suite\n",
    "\n",
    "spark = ps.sql.SparkSession.builder \\\n",
    "            .master(\"local[4]\") \\\n",
    "            .appName(\"df JulesVerne\") \\\n",
    "            .getOrCreate()\n",
    "\n",
    "sc = spark.sparkContext"
   ]
  },
  {
   "cell_type": "code",
   "execution_count": 2,
   "metadata": {
    "collapsed": true
   },
   "outputs": [],
   "source": [
    "df = pd.read_csv('data/reviews.csv')"
   ]
  },
  {
   "cell_type": "code",
   "execution_count": 3,
   "metadata": {
    "collapsed": true
   },
   "outputs": [],
   "source": [
    "df.reviews = df.reviews.astype(str)\n",
    "df.attractions = df.attractions.astype(str)"
   ]
  },
  {
   "cell_type": "code",
   "execution_count": 5,
   "metadata": {},
   "outputs": [
    {
     "name": "stdout",
     "output_type": "stream",
     "text": [
      "<class 'pandas.core.frame.DataFrame'>\n",
      "RangeIndex: 1001171 entries, 0 to 1001170\n",
      "Data columns (total 2 columns):\n",
      "attractions    1001171 non-null object\n",
      "reviews        1001171 non-null object\n",
      "dtypes: object(2)\n",
      "memory usage: 15.3+ MB\n"
     ]
    }
   ],
   "source": [
    "df.info()"
   ]
  },
  {
   "cell_type": "markdown",
   "metadata": {},
   "source": [
    "## Loading Reviews into a Spark Dataframe"
   ]
  },
  {
   "cell_type": "code",
   "execution_count": 6,
   "metadata": {},
   "outputs": [],
   "source": [
    "spark_df = spark.createDataFrame(df)"
   ]
  },
  {
   "cell_type": "code",
   "execution_count": 7,
   "metadata": {},
   "outputs": [
    {
     "name": "stdout",
     "output_type": "stream",
     "text": [
      "+--------------------+--------------------+\n",
      "|         attractions|             reviews|\n",
      "+--------------------+--------------------+\n",
      "|Sydney_Harbour-Sy...|Apart from the ma...|\n",
      "|Sydney_Harbour-Sy...|Iconic sightseein...|\n",
      "|Sydney_Harbour-Sy...|Beautiful harbour...|\n",
      "|Sydney_Harbour-Sy...|We took a tour wi...|\n",
      "|Sydney_Harbour-Sy...|Visit the Harbor ...|\n",
      "|Sydney_Harbour-Sy...|This area, called...|\n",
      "|Sydney_Harbour-Sy...|enjoy a champagne...|\n",
      "|Sydney_Harbour-Sy...|went on a holiday...|\n",
      "|Sydney_Harbour-Sy...|The Sydney Harbou...|\n",
      "|Sydney_Harbour-Sy...|I have always wan...|\n",
      "|Sydney_Harbour-Sy...|Always special, l...|\n",
      "|Sydney_Harbour-Sy...|A must see while ...|\n",
      "|Sydney_Harbour-Sy...|Don't really know...|\n",
      "|Sydney_Harbour-Sy...|Loved our visit t...|\n",
      "|Sydney_Harbour-Sy...|Recommend catchin...|\n",
      "|Sydney_Harbour-Sy...|I have seen a num...|\n",
      "|Sydney_Harbour-Sy...|Located by many g...|\n",
      "|Sydney_Harbour-Sy...|Sydney Harbour is...|\n",
      "|Sydney_Harbour-Sy...|Fantastic trip. B...|\n",
      "|Sydney_Harbour-Sy...|So love Sydney Ha...|\n",
      "+--------------------+--------------------+\n",
      "only showing top 20 rows\n",
      "\n"
     ]
    }
   ],
   "source": [
    "spark_df.show()"
   ]
  },
  {
   "cell_type": "markdown",
   "metadata": {
    "collapsed": true
   },
   "source": [
    "## Let's try Sydney, Australia"
   ]
  },
  {
   "cell_type": "code",
   "execution_count": 8,
   "metadata": {
    "collapsed": true
   },
   "outputs": [],
   "source": [
    "df_sydney = spark_df.filter(spark_df.attractions == 'Sydney_Harbour-Sydney_New_South_Wales')"
   ]
  },
  {
   "cell_type": "code",
   "execution_count": 9,
   "metadata": {
    "collapsed": true
   },
   "outputs": [],
   "source": [
    "from src.nltk_pipe import indexing_pipeline\n",
    "df_sydney_, ls_sydney = indexing_pipeline(df_sydney)"
   ]
  },
  {
   "cell_type": "code",
   "execution_count": 11,
   "metadata": {},
   "outputs": [
    {
     "data": {
      "text/plain": [
       "781"
      ]
     },
     "execution_count": 11,
     "metadata": {},
     "output_type": "execute_result"
    }
   ],
   "source": [
    "len(ls_sydney)"
   ]
  },
  {
   "cell_type": "code",
   "execution_count": 14,
   "metadata": {},
   "outputs": [
    {
     "data": {
      "text/plain": [
       "[u'harbour',\n",
       " u'sydney',\n",
       " u'more',\n",
       " u'ferri',\n",
       " u'opera',\n",
       " u'hous',\n",
       " u'bridg',\n",
       " u'view',\n",
       " u'beauti',\n",
       " u'great',\n",
       " u'place',\n",
       " u'day',\n",
       " u'time',\n",
       " u'harbor',\n",
       " u'cruis']"
      ]
     },
     "execution_count": 14,
     "metadata": {},
     "output_type": "execute_result"
    }
   ],
   "source": [
    "ls_sydney[:15]"
   ]
  },
  {
   "cell_type": "code",
   "execution_count": 16,
   "metadata": {},
   "outputs": [
    {
     "name": "stdout",
     "output_type": "stream",
     "text": [
      "root\n",
      " |-- attractions: string (nullable = true)\n",
      " |-- reviews: string (nullable = true)\n",
      " |-- bow: array (nullable = true)\n",
      " |    |-- element: string (containsNull = true)\n",
      " |-- vector_tf: vector (nullable = true)\n",
      " |-- features: vector (nullable = true)\n",
      "\n"
     ]
    }
   ],
   "source": [
    "df_sydney_.printSchema()"
   ]
  },
  {
   "cell_type": "code",
   "execution_count": 19,
   "metadata": {},
   "outputs": [
    {
     "name": "stdout",
     "output_type": "stream",
     "text": [
      "+--------------------+--------------------+--------------------+--------------------+--------------------+\n",
      "|         attractions|             reviews|                 bow|           vector_tf|            features|\n",
      "+--------------------+--------------------+--------------------+--------------------+--------------------+\n",
      "|Sydney_Harbour-Sy...|Apart from the ma...|[mass, tourist, p...|(781,[9,51,55,62,...|(781,[9,51,55,62,...|\n",
      "|Sydney_Harbour-Sy...|Iconic sightseein...|[icon, sightse, h...|(781,[0,1,4,5,6,2...|(781,[0,1,4,5,6,2...|\n",
      "|Sydney_Harbour-Sy...|Beautiful harbour...|[beauti, harbour,...|(781,[0,8,17,18,2...|(781,[0,8,17,18,2...|\n",
      "|Sydney_Harbour-Sy...|We took a tour wi...|[tour, graylin, l...|(781,[0,2,15,24,3...|(781,[0,2,15,24,3...|\n",
      "|Sydney_Harbour-Sy...|Visit the Harbor ...|[harbor, multipl,...|(781,[1,2,4,5,6,7...|(781,[1,2,4,5,6,7...|\n",
      "|Sydney_Harbour-Sy...|This area, called...|[area, circular, ...|(781,[1,2,11,14,1...|(781,[1,2,11,14,1...|\n",
      "|Sydney_Harbour-Sy...|enjoy a champagne...|[champagn, breez,...|(781,[1,121,173,2...|(781,[1,121,173,2...|\n",
      "|Sydney_Harbour-Sy...|went on a holiday...|[holiday, expect,...|(781,[28,61,296,3...|(781,[28,61,296,3...|\n",
      "|Sydney_Harbour-Sy...|The Sydney Harbou...|[sydney, harbour,...|(781,[0,1,2,10,15...|(781,[0,1,2,10,15...|\n",
      "|Sydney_Harbour-Sy...|I have always wan...|[opera, hous, har...|(781,[0,1,2,3,4,5...|(781,[0,1,2,3,4,5...|\n",
      "+--------------------+--------------------+--------------------+--------------------+--------------------+\n",
      "only showing top 10 rows\n",
      "\n"
     ]
    }
   ],
   "source": [
    "df_sydney_.show(10)"
   ]
  },
  {
   "cell_type": "markdown",
   "metadata": {},
   "source": [
    "## Let's try Angkor Wat, Cambodia"
   ]
  },
  {
   "cell_type": "code",
   "execution_count": 17,
   "metadata": {
    "collapsed": true
   },
   "outputs": [],
   "source": [
    "df_angkor = spark_df.filter(spark_df.attractions == 'Angkor_Thom-Siem_Reap_Siem_Reap_Province')"
   ]
  },
  {
   "cell_type": "code",
   "execution_count": 18,
   "metadata": {
    "collapsed": true
   },
   "outputs": [],
   "source": [
    "df_angkor_, ls_angkor = indexing_pipeline(df_angkor)"
   ]
  },
  {
   "cell_type": "code",
   "execution_count": 20,
   "metadata": {},
   "outputs": [
    {
     "data": {
      "text/plain": [
       "[u'templ',\n",
       " u'angkor',\n",
       " u'more',\n",
       " u'thom',\n",
       " u'wat',\n",
       " u'place',\n",
       " u'mani',\n",
       " u'time',\n",
       " u'day',\n",
       " u'guid',\n",
       " u'great',\n",
       " u'beauti',\n",
       " u'bayon',\n",
       " u'amaz',\n",
       " u'citi']"
      ]
     },
     "execution_count": 20,
     "metadata": {},
     "output_type": "execute_result"
    }
   ],
   "source": [
    "ls_angkor[:15]"
   ]
  },
  {
   "cell_type": "code",
   "execution_count": null,
   "metadata": {
    "collapsed": true
   },
   "outputs": [],
   "source": []
  }
 ],
 "metadata": {
  "kernelspec": {
   "display_name": "Python 2",
   "language": "python",
   "name": "python2"
  },
  "language_info": {
   "codemirror_mode": {
    "name": "ipython",
    "version": 2
   },
   "file_extension": ".py",
   "mimetype": "text/x-python",
   "name": "python",
   "nbconvert_exporter": "python",
   "pygments_lexer": "ipython2",
   "version": "2.7.13"
  }
 },
 "nbformat": 4,
 "nbformat_minor": 2
}
