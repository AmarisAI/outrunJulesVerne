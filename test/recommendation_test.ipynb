{
 "cells": [
  {
   "cell_type": "code",
   "execution_count": 1,
   "metadata": {
    "collapsed": true
   },
   "outputs": [],
   "source": [
    "import pandas as pd\n",
    "import numpy as np\n",
    "import sys\n",
    "sys.path.insert(0, '/Users/isabellelee/Desktop/data_science/capstone/src')"
   ]
  },
  {
   "cell_type": "code",
   "execution_count": 2,
   "metadata": {
    "collapsed": true
   },
   "outputs": [],
   "source": [
    "lat_lon = pd.read_csv('../data/lat_log.csv')"
   ]
  },
  {
   "cell_type": "code",
   "execution_count": 3,
   "metadata": {
    "collapsed": true
   },
   "outputs": [],
   "source": [
    "transformed = pd.read_pickle('../data/transformed_20.pkl')"
   ]
  },
  {
   "cell_type": "code",
   "execution_count": 4,
   "metadata": {},
   "outputs": [
    {
     "data": {
      "text/plain": [
       "(1879, 6)"
      ]
     },
     "execution_count": 4,
     "metadata": {},
     "output_type": "execute_result"
    }
   ],
   "source": [
    "transformed.shape"
   ]
  },
  {
   "cell_type": "code",
   "execution_count": 5,
   "metadata": {},
   "outputs": [
    {
     "data": {
      "text/plain": [
       "(2252, 5)"
      ]
     },
     "execution_count": 5,
     "metadata": {},
     "output_type": "execute_result"
    }
   ],
   "source": [
    "lat_lon.shape"
   ]
  },
  {
   "cell_type": "code",
   "execution_count": 15,
   "metadata": {
    "collapsed": true
   },
   "outputs": [],
   "source": [
    "lat_lon = lat_lon.drop_duplicates()"
   ]
  },
  {
   "cell_type": "code",
   "execution_count": 18,
   "metadata": {
    "collapsed": true
   },
   "outputs": [],
   "source": [
    "df_transformed= pd.DataFrame(transformed.topicDistribution)\n",
    "df_transformed['attraction'] = transformed.attractions"
   ]
  },
  {
   "cell_type": "code",
   "execution_count": 19,
   "metadata": {},
   "outputs": [
    {
     "data": {
      "text/html": [
       "<div>\n",
       "<style>\n",
       "    .dataframe thead tr:only-child th {\n",
       "        text-align: right;\n",
       "    }\n",
       "\n",
       "    .dataframe thead th {\n",
       "        text-align: left;\n",
       "    }\n",
       "\n",
       "    .dataframe tbody tr th {\n",
       "        vertical-align: top;\n",
       "    }\n",
       "</style>\n",
       "<table border=\"1\" class=\"dataframe\">\n",
       "  <thead>\n",
       "    <tr style=\"text-align: right;\">\n",
       "      <th></th>\n",
       "      <th>topicDistribution</th>\n",
       "      <th>attraction</th>\n",
       "    </tr>\n",
       "  </thead>\n",
       "  <tbody>\n",
       "    <tr>\n",
       "      <th>0</th>\n",
       "      <td>[0.00663724844079, 0.00265223685009, 0.0020658...</td>\n",
       "      <td>Sydney_Harbour-Sydney_New_South_Wales</td>\n",
       "    </tr>\n",
       "    <tr>\n",
       "      <th>1</th>\n",
       "      <td>[0.0116247603055, 0.000738219390953, 0.0013014...</td>\n",
       "      <td>Australian_War_Memorial-Canberra_Australian_Ca...</td>\n",
       "    </tr>\n",
       "    <tr>\n",
       "      <th>2</th>\n",
       "      <td>[0.000906048232671, 0.00764642656688, 0.002745...</td>\n",
       "      <td>Bondi_to_Coogee_Beach_Coastal_Walk-Sydney_New_...</td>\n",
       "    </tr>\n",
       "    <tr>\n",
       "      <th>3</th>\n",
       "      <td>[0.00343066358462, 0.00205857043043, 0.0014377...</td>\n",
       "      <td>Sydney_Opera_House-Sydney_New_South_Wales</td>\n",
       "    </tr>\n",
       "    <tr>\n",
       "      <th>4</th>\n",
       "      <td>[0.00214805595569, 0.000721378426068, 0.001531...</td>\n",
       "      <td>Shrine_of_Remembrance-Melbourne_Victoria</td>\n",
       "    </tr>\n",
       "  </tbody>\n",
       "</table>\n",
       "</div>"
      ],
      "text/plain": [
       "                                   topicDistribution  \\\n",
       "0  [0.00663724844079, 0.00265223685009, 0.0020658...   \n",
       "1  [0.0116247603055, 0.000738219390953, 0.0013014...   \n",
       "2  [0.000906048232671, 0.00764642656688, 0.002745...   \n",
       "3  [0.00343066358462, 0.00205857043043, 0.0014377...   \n",
       "4  [0.00214805595569, 0.000721378426068, 0.001531...   \n",
       "\n",
       "                                          attraction  \n",
       "0              Sydney_Harbour-Sydney_New_South_Wales  \n",
       "1  Australian_War_Memorial-Canberra_Australian_Ca...  \n",
       "2  Bondi_to_Coogee_Beach_Coastal_Walk-Sydney_New_...  \n",
       "3          Sydney_Opera_House-Sydney_New_South_Wales  \n",
       "4           Shrine_of_Remembrance-Melbourne_Victoria  "
      ]
     },
     "execution_count": 19,
     "metadata": {},
     "output_type": "execute_result"
    }
   ],
   "source": [
    "df_transformed[:5]"
   ]
  },
  {
   "cell_type": "code",
   "execution_count": 25,
   "metadata": {
    "collapsed": true
   },
   "outputs": [],
   "source": [
    "df_location = pd.DataFrame(lat_lon.attraction) \n",
    "df_location['latitude'] = lat_lon.latitude\n",
    "df_location['longitude'] = lat_lon.longitude"
   ]
  },
  {
   "cell_type": "code",
   "execution_count": 26,
   "metadata": {},
   "outputs": [
    {
     "data": {
      "text/html": [
       "<div>\n",
       "<style>\n",
       "    .dataframe thead tr:only-child th {\n",
       "        text-align: right;\n",
       "    }\n",
       "\n",
       "    .dataframe thead th {\n",
       "        text-align: left;\n",
       "    }\n",
       "\n",
       "    .dataframe tbody tr th {\n",
       "        vertical-align: top;\n",
       "    }\n",
       "</style>\n",
       "<table border=\"1\" class=\"dataframe\">\n",
       "  <thead>\n",
       "    <tr style=\"text-align: right;\">\n",
       "      <th></th>\n",
       "      <th>attraction</th>\n",
       "      <th>latitude</th>\n",
       "      <th>longitude</th>\n",
       "    </tr>\n",
       "  </thead>\n",
       "  <tbody>\n",
       "    <tr>\n",
       "      <th>0</th>\n",
       "      <td>Sydney_Harbour-Sydney_New_South_Wales</td>\n",
       "      <td>-33.868820</td>\n",
       "      <td>151.209295</td>\n",
       "    </tr>\n",
       "    <tr>\n",
       "      <th>1</th>\n",
       "      <td>Australian_War_Memorial-Canberra_Australian_Ca...</td>\n",
       "      <td>-35.279444</td>\n",
       "      <td>149.149680</td>\n",
       "    </tr>\n",
       "    <tr>\n",
       "      <th>2</th>\n",
       "      <td>Bondi_to_Coogee_Beach_Coastal_Walk-Sydney_New_...</td>\n",
       "      <td>-33.922393</td>\n",
       "      <td>151.255973</td>\n",
       "    </tr>\n",
       "    <tr>\n",
       "      <th>3</th>\n",
       "      <td>Sydney_Opera_House-Sydney_New_South_Wales</td>\n",
       "      <td>-33.856536</td>\n",
       "      <td>151.214996</td>\n",
       "    </tr>\n",
       "    <tr>\n",
       "      <th>4</th>\n",
       "      <td>Shrine_of_Remembrance-Melbourne_Victoria</td>\n",
       "      <td>-37.842557</td>\n",
       "      <td>144.977767</td>\n",
       "    </tr>\n",
       "  </tbody>\n",
       "</table>\n",
       "</div>"
      ],
      "text/plain": [
       "                                          attraction   latitude   longitude\n",
       "0              Sydney_Harbour-Sydney_New_South_Wales -33.868820  151.209295\n",
       "1  Australian_War_Memorial-Canberra_Australian_Ca... -35.279444  149.149680\n",
       "2  Bondi_to_Coogee_Beach_Coastal_Walk-Sydney_New_... -33.922393  151.255973\n",
       "3          Sydney_Opera_House-Sydney_New_South_Wales -33.856536  151.214996\n",
       "4           Shrine_of_Remembrance-Melbourne_Victoria -37.842557  144.977767"
      ]
     },
     "execution_count": 26,
     "metadata": {},
     "output_type": "execute_result"
    }
   ],
   "source": [
    "df_location[:5]"
   ]
  },
  {
   "cell_type": "code",
   "execution_count": 30,
   "metadata": {
    "collapsed": true
   },
   "outputs": [],
   "source": [
    "df_total = pd.merge(df_transformed, df_location, on='attraction')"
   ]
  },
  {
   "cell_type": "code",
   "execution_count": 47,
   "metadata": {},
   "outputs": [
    {
     "data": {
      "text/html": [
       "<div>\n",
       "<style>\n",
       "    .dataframe thead tr:only-child th {\n",
       "        text-align: right;\n",
       "    }\n",
       "\n",
       "    .dataframe thead th {\n",
       "        text-align: left;\n",
       "    }\n",
       "\n",
       "    .dataframe tbody tr th {\n",
       "        vertical-align: top;\n",
       "    }\n",
       "</style>\n",
       "<table border=\"1\" class=\"dataframe\">\n",
       "  <thead>\n",
       "    <tr style=\"text-align: right;\">\n",
       "      <th></th>\n",
       "      <th>topicDistribution</th>\n",
       "      <th>attraction</th>\n",
       "      <th>latitude</th>\n",
       "      <th>longitude</th>\n",
       "    </tr>\n",
       "  </thead>\n",
       "  <tbody>\n",
       "    <tr>\n",
       "      <th>0</th>\n",
       "      <td>[0.00663724844079, 0.00265223685009, 0.0020658...</td>\n",
       "      <td>Sydney_Harbour-Sydney_New_South_Wales</td>\n",
       "      <td>-33.868820</td>\n",
       "      <td>151.209295</td>\n",
       "    </tr>\n",
       "    <tr>\n",
       "      <th>1</th>\n",
       "      <td>[0.0116247603055, 0.000738219390953, 0.0013014...</td>\n",
       "      <td>Australian_War_Memorial-Canberra_Australian_Ca...</td>\n",
       "      <td>-35.279444</td>\n",
       "      <td>149.149680</td>\n",
       "    </tr>\n",
       "    <tr>\n",
       "      <th>2</th>\n",
       "      <td>[0.000906048232671, 0.00764642656688, 0.002745...</td>\n",
       "      <td>Bondi_to_Coogee_Beach_Coastal_Walk-Sydney_New_...</td>\n",
       "      <td>-33.922393</td>\n",
       "      <td>151.255973</td>\n",
       "    </tr>\n",
       "    <tr>\n",
       "      <th>3</th>\n",
       "      <td>[0.00343066358462, 0.00205857043043, 0.0014377...</td>\n",
       "      <td>Sydney_Opera_House-Sydney_New_South_Wales</td>\n",
       "      <td>-33.856536</td>\n",
       "      <td>151.214996</td>\n",
       "    </tr>\n",
       "    <tr>\n",
       "      <th>4</th>\n",
       "      <td>[0.00214805595569, 0.000721378426068, 0.001531...</td>\n",
       "      <td>Shrine_of_Remembrance-Melbourne_Victoria</td>\n",
       "      <td>-37.842557</td>\n",
       "      <td>144.977767</td>\n",
       "    </tr>\n",
       "  </tbody>\n",
       "</table>\n",
       "</div>"
      ],
      "text/plain": [
       "                                   topicDistribution  \\\n",
       "0  [0.00663724844079, 0.00265223685009, 0.0020658...   \n",
       "1  [0.0116247603055, 0.000738219390953, 0.0013014...   \n",
       "2  [0.000906048232671, 0.00764642656688, 0.002745...   \n",
       "3  [0.00343066358462, 0.00205857043043, 0.0014377...   \n",
       "4  [0.00214805595569, 0.000721378426068, 0.001531...   \n",
       "\n",
       "                                          attraction   latitude   longitude  \n",
       "0              Sydney_Harbour-Sydney_New_South_Wales -33.868820  151.209295  \n",
       "1  Australian_War_Memorial-Canberra_Australian_Ca... -35.279444  149.149680  \n",
       "2  Bondi_to_Coogee_Beach_Coastal_Walk-Sydney_New_... -33.922393  151.255973  \n",
       "3          Sydney_Opera_House-Sydney_New_South_Wales -33.856536  151.214996  \n",
       "4           Shrine_of_Remembrance-Melbourne_Victoria -37.842557  144.977767  "
      ]
     },
     "execution_count": 47,
     "metadata": {},
     "output_type": "execute_result"
    }
   ],
   "source": [
    "df_total[:5]"
   ]
  },
  {
   "cell_type": "markdown",
   "metadata": {},
   "source": [
    "### Say you picked topic 4, 14, 9.  Then how do we know which locations give high composite lda scores for these?"
   ]
  },
  {
   "cell_type": "code",
   "execution_count": 89,
   "metadata": {
    "collapsed": true
   },
   "outputs": [],
   "source": [
    "def lda_scores(x, lst_topics=[4,14,9]):\n",
    "    total_score = []\n",
    "    for i in lst_topics:\n",
    "        total_score.append(x[i])\n",
    "    total_score = np.array(total_score)\n",
    "    return total_score.sum()/len(total_score)"
   ]
  },
  {
   "cell_type": "code",
   "execution_count": 90,
   "metadata": {
    "collapsed": true
   },
   "outputs": [],
   "source": [
    "df_total['lda_score'] = df_total.topicDistribution.apply(lda_scores)"
   ]
  },
  {
   "cell_type": "code",
   "execution_count": 91,
   "metadata": {
    "scrolled": false
   },
   "outputs": [
    {
     "data": {
      "text/html": [
       "<div>\n",
       "<style>\n",
       "    .dataframe thead tr:only-child th {\n",
       "        text-align: right;\n",
       "    }\n",
       "\n",
       "    .dataframe thead th {\n",
       "        text-align: left;\n",
       "    }\n",
       "\n",
       "    .dataframe tbody tr th {\n",
       "        vertical-align: top;\n",
       "    }\n",
       "</style>\n",
       "<table border=\"1\" class=\"dataframe\">\n",
       "  <thead>\n",
       "    <tr style=\"text-align: right;\">\n",
       "      <th></th>\n",
       "      <th>topicDistribution</th>\n",
       "      <th>attraction</th>\n",
       "      <th>latitude</th>\n",
       "      <th>longitude</th>\n",
       "      <th>lda_score</th>\n",
       "    </tr>\n",
       "  </thead>\n",
       "  <tbody>\n",
       "    <tr>\n",
       "      <th>11</th>\n",
       "      <td>[0.000305087650327, 0.000299934812593, 0.00072...</td>\n",
       "      <td>Kata_Tjuta_The_Olgas-Uluru_Kata_Tjuta_National...</td>\n",
       "      <td>-25.343780</td>\n",
       "      <td>131.034651</td>\n",
       "      <td>0.330649</td>\n",
       "    </tr>\n",
       "    <tr>\n",
       "      <th>85</th>\n",
       "      <td>[0.00126897571654, 0.000449215679553, 0.000550...</td>\n",
       "      <td>Beng_Mealea-Siem_Reap_Province</td>\n",
       "      <td>13.412469</td>\n",
       "      <td>103.866986</td>\n",
       "      <td>0.329542</td>\n",
       "    </tr>\n",
       "    <tr>\n",
       "      <th>87</th>\n",
       "      <td>[0.000299565261297, 0.000269936705604, 0.00043...</td>\n",
       "      <td>Cambodia_Landmine_Museum-Siem_Reap_Siem_Reap_P...</td>\n",
       "      <td>13.539563</td>\n",
       "      <td>103.945851</td>\n",
       "      <td>0.329045</td>\n",
       "    </tr>\n",
       "    <tr>\n",
       "      <th>80</th>\n",
       "      <td>[0.000722154950546, 0.000541443306928, 0.00059...</td>\n",
       "      <td>Bayon_Temple-Siem_Reap_Siem_Reap_Province</td>\n",
       "      <td>13.440830</td>\n",
       "      <td>103.859038</td>\n",
       "      <td>0.329028</td>\n",
       "    </tr>\n",
       "    <tr>\n",
       "      <th>98</th>\n",
       "      <td>[0.000586615506657, 0.0003729713443, 0.0004382...</td>\n",
       "      <td>Banteay_Srei-Siem_Reap_Siem_Reap_Province</td>\n",
       "      <td>13.367097</td>\n",
       "      <td>103.844813</td>\n",
       "      <td>0.328431</td>\n",
       "    </tr>\n",
       "    <tr>\n",
       "      <th>774</th>\n",
       "      <td>[0.000781568519081, 0.000510460985113, 0.00098...</td>\n",
       "      <td>Iguazu_Falls-Foz_do_Iguacu_State_of_Parana</td>\n",
       "      <td>-25.613348</td>\n",
       "      <td>-54.479599</td>\n",
       "      <td>0.327763</td>\n",
       "    </tr>\n",
       "    <tr>\n",
       "      <th>90</th>\n",
       "      <td>[0.000467936406192, 0.000564101014927, 0.00058...</td>\n",
       "      <td>Battambang_Bat_Caves-Battambang_Battambang_Pro...</td>\n",
       "      <td>13.095730</td>\n",
       "      <td>103.202205</td>\n",
       "      <td>0.327392</td>\n",
       "    </tr>\n",
       "    <tr>\n",
       "      <th>167</th>\n",
       "      <td>[0.00166246629644, 0.000805013353267, 0.000742...</td>\n",
       "      <td>Jatiluwih_Green_Land-Tabanan_Bali</td>\n",
       "      <td>-8.361985</td>\n",
       "      <td>115.140133</td>\n",
       "      <td>0.327057</td>\n",
       "    </tr>\n",
       "    <tr>\n",
       "      <th>82</th>\n",
       "      <td>[0.00353816991767, 0.000482978998472, 0.002355...</td>\n",
       "      <td>Angkor_Thom-Siem_Reap_Siem_Reap_Province</td>\n",
       "      <td>13.378374</td>\n",
       "      <td>103.848589</td>\n",
       "      <td>0.326234</td>\n",
       "    </tr>\n",
       "    <tr>\n",
       "      <th>88</th>\n",
       "      <td>[0.00167110012356, 0.000667465723207, 0.000536...</td>\n",
       "      <td>Angkor_National_Museum-Siem_Reap_Siem_Reap_Pro...</td>\n",
       "      <td>13.366573</td>\n",
       "      <td>103.860283</td>\n",
       "      <td>0.325443</td>\n",
       "    </tr>\n",
       "  </tbody>\n",
       "</table>\n",
       "</div>"
      ],
      "text/plain": [
       "                                     topicDistribution  \\\n",
       "11   [0.000305087650327, 0.000299934812593, 0.00072...   \n",
       "85   [0.00126897571654, 0.000449215679553, 0.000550...   \n",
       "87   [0.000299565261297, 0.000269936705604, 0.00043...   \n",
       "80   [0.000722154950546, 0.000541443306928, 0.00059...   \n",
       "98   [0.000586615506657, 0.0003729713443, 0.0004382...   \n",
       "774  [0.000781568519081, 0.000510460985113, 0.00098...   \n",
       "90   [0.000467936406192, 0.000564101014927, 0.00058...   \n",
       "167  [0.00166246629644, 0.000805013353267, 0.000742...   \n",
       "82   [0.00353816991767, 0.000482978998472, 0.002355...   \n",
       "88   [0.00167110012356, 0.000667465723207, 0.000536...   \n",
       "\n",
       "                                            attraction   latitude   longitude  \\\n",
       "11   Kata_Tjuta_The_Olgas-Uluru_Kata_Tjuta_National... -25.343780  131.034651   \n",
       "85                      Beng_Mealea-Siem_Reap_Province  13.412469  103.866986   \n",
       "87   Cambodia_Landmine_Museum-Siem_Reap_Siem_Reap_P...  13.539563  103.945851   \n",
       "80           Bayon_Temple-Siem_Reap_Siem_Reap_Province  13.440830  103.859038   \n",
       "98           Banteay_Srei-Siem_Reap_Siem_Reap_Province  13.367097  103.844813   \n",
       "774         Iguazu_Falls-Foz_do_Iguacu_State_of_Parana -25.613348  -54.479599   \n",
       "90   Battambang_Bat_Caves-Battambang_Battambang_Pro...  13.095730  103.202205   \n",
       "167                  Jatiluwih_Green_Land-Tabanan_Bali  -8.361985  115.140133   \n",
       "82            Angkor_Thom-Siem_Reap_Siem_Reap_Province  13.378374  103.848589   \n",
       "88   Angkor_National_Museum-Siem_Reap_Siem_Reap_Pro...  13.366573  103.860283   \n",
       "\n",
       "     lda_score  \n",
       "11    0.330649  \n",
       "85    0.329542  \n",
       "87    0.329045  \n",
       "80    0.329028  \n",
       "98    0.328431  \n",
       "774   0.327763  \n",
       "90    0.327392  \n",
       "167   0.327057  \n",
       "82    0.326234  \n",
       "88    0.325443  "
      ]
     },
     "execution_count": 91,
     "metadata": {},
     "output_type": "execute_result"
    }
   ],
   "source": [
    "df_total.sort_values('lda_score', ascending=False)[:10]"
   ]
  },
  {
   "cell_type": "markdown",
   "metadata": {},
   "source": [
    "looks like a good recommendation!  The starting point should be the one that gives the best distribution"
   ]
  },
  {
   "cell_type": "code",
   "execution_count": 92,
   "metadata": {
    "collapsed": true
   },
   "outputs": [],
   "source": [
    "df_attr = pd.read_csv('../data/attractions.csv')"
   ]
  },
  {
   "cell_type": "code",
   "execution_count": 105,
   "metadata": {
    "collapsed": true
   },
   "outputs": [],
   "source": [
    "df_attr = df_attr[['country', 'attraction']]"
   ]
  },
  {
   "cell_type": "code",
   "execution_count": 96,
   "metadata": {
    "collapsed": true
   },
   "outputs": [],
   "source": [
    "df_countries = pd.read_csv('../data/world.csv')"
   ]
  },
  {
   "cell_type": "code",
   "execution_count": 103,
   "metadata": {
    "collapsed": true
   },
   "outputs": [],
   "source": [
    "df_countries = df_countries[['continent', 'country']]"
   ]
  },
  {
   "cell_type": "code",
   "execution_count": 108,
   "metadata": {
    "collapsed": true
   },
   "outputs": [],
   "source": [
    "df_world = pd.merge(df_countries, df_attr, on='country')"
   ]
  },
  {
   "cell_type": "code",
   "execution_count": 110,
   "metadata": {
    "collapsed": true
   },
   "outputs": [],
   "source": [
    "df_world = df_world.drop_duplicates()"
   ]
  },
  {
   "cell_type": "code",
   "execution_count": 114,
   "metadata": {
    "collapsed": true
   },
   "outputs": [],
   "source": [
    "world = pd.merge(df_world, df_total, on='attraction')"
   ]
  },
  {
   "cell_type": "code",
   "execution_count": 121,
   "metadata": {
    "collapsed": true
   },
   "outputs": [],
   "source": [
    "world = world.drop('lda_score', 1)"
   ]
  },
  {
   "cell_type": "code",
   "execution_count": 122,
   "metadata": {
    "collapsed": true
   },
   "outputs": [],
   "source": [
    "world.to_pickle('../data/total_everything_world.pkl')"
   ]
  },
  {
   "cell_type": "code",
   "execution_count": 2,
   "metadata": {},
   "outputs": [
    {
     "data": {
      "text/html": [
       "<div>\n",
       "<style>\n",
       "    .dataframe thead tr:only-child th {\n",
       "        text-align: right;\n",
       "    }\n",
       "\n",
       "    .dataframe thead th {\n",
       "        text-align: left;\n",
       "    }\n",
       "\n",
       "    .dataframe tbody tr th {\n",
       "        vertical-align: top;\n",
       "    }\n",
       "</style>\n",
       "<table border=\"1\" class=\"dataframe\">\n",
       "  <thead>\n",
       "    <tr style=\"text-align: right;\">\n",
       "      <th></th>\n",
       "      <th>continent</th>\n",
       "      <th>country</th>\n",
       "      <th>attraction</th>\n",
       "      <th>topicDistribution</th>\n",
       "      <th>latitude</th>\n",
       "      <th>longitude</th>\n",
       "    </tr>\n",
       "  </thead>\n",
       "  <tbody>\n",
       "    <tr>\n",
       "      <th>0</th>\n",
       "      <td>oceania</td>\n",
       "      <td>Australia</td>\n",
       "      <td>Sydney_Harbour-Sydney_New_South_Wales</td>\n",
       "      <td>[0.00663724844079, 0.00265223685009, 0.0020658...</td>\n",
       "      <td>-33.868820</td>\n",
       "      <td>151.209295</td>\n",
       "    </tr>\n",
       "    <tr>\n",
       "      <th>1</th>\n",
       "      <td>oceania</td>\n",
       "      <td>Australia</td>\n",
       "      <td>Australian_War_Memorial-Canberra_Australian_Ca...</td>\n",
       "      <td>[0.0116247603055, 0.000738219390953, 0.0013014...</td>\n",
       "      <td>-35.279444</td>\n",
       "      <td>149.149680</td>\n",
       "    </tr>\n",
       "    <tr>\n",
       "      <th>2</th>\n",
       "      <td>oceania</td>\n",
       "      <td>Australia</td>\n",
       "      <td>Bondi_to_Coogee_Beach_Coastal_Walk-Sydney_New_...</td>\n",
       "      <td>[0.000906048232671, 0.00764642656688, 0.002745...</td>\n",
       "      <td>-33.922393</td>\n",
       "      <td>151.255973</td>\n",
       "    </tr>\n",
       "    <tr>\n",
       "      <th>3</th>\n",
       "      <td>oceania</td>\n",
       "      <td>Australia</td>\n",
       "      <td>Sydney_Opera_House-Sydney_New_South_Wales</td>\n",
       "      <td>[0.00343066358462, 0.00205857043043, 0.0014377...</td>\n",
       "      <td>-33.856536</td>\n",
       "      <td>151.214996</td>\n",
       "    </tr>\n",
       "    <tr>\n",
       "      <th>4</th>\n",
       "      <td>oceania</td>\n",
       "      <td>Australia</td>\n",
       "      <td>Shrine_of_Remembrance-Melbourne_Victoria</td>\n",
       "      <td>[0.00214805595569, 0.000721378426068, 0.001531...</td>\n",
       "      <td>-37.842557</td>\n",
       "      <td>144.977767</td>\n",
       "    </tr>\n",
       "  </tbody>\n",
       "</table>\n",
       "</div>"
      ],
      "text/plain": [
       "  continent    country                                         attraction  \\\n",
       "0   oceania  Australia              Sydney_Harbour-Sydney_New_South_Wales   \n",
       "1   oceania  Australia  Australian_War_Memorial-Canberra_Australian_Ca...   \n",
       "2   oceania  Australia  Bondi_to_Coogee_Beach_Coastal_Walk-Sydney_New_...   \n",
       "3   oceania  Australia          Sydney_Opera_House-Sydney_New_South_Wales   \n",
       "4   oceania  Australia           Shrine_of_Remembrance-Melbourne_Victoria   \n",
       "\n",
       "                                   topicDistribution   latitude   longitude  \n",
       "0  [0.00663724844079, 0.00265223685009, 0.0020658... -33.868820  151.209295  \n",
       "1  [0.0116247603055, 0.000738219390953, 0.0013014... -35.279444  149.149680  \n",
       "2  [0.000906048232671, 0.00764642656688, 0.002745... -33.922393  151.255973  \n",
       "3  [0.00343066358462, 0.00205857043043, 0.0014377... -33.856536  151.214996  \n",
       "4  [0.00214805595569, 0.000721378426068, 0.001531... -37.842557  144.977767  "
      ]
     },
     "execution_count": 2,
     "metadata": {},
     "output_type": "execute_result"
    }
   ],
   "source": [
    "world = pd.read_pickle('../data/total_everything_world.pkl')\n",
    "world[:5]"
   ]
  },
  {
   "cell_type": "code",
   "execution_count": 3,
   "metadata": {
    "collapsed": true
   },
   "outputs": [],
   "source": [
    "from recommend import lda_scores, first_recommendation, distance_btw_recommendations"
   ]
  },
  {
   "cell_type": "code",
   "execution_count": 133,
   "metadata": {
    "collapsed": true
   },
   "outputs": [],
   "source": [
    "from geopy.distance import vincenty"
   ]
  },
  {
   "cell_type": "code",
   "execution_count": 135,
   "metadata": {},
   "outputs": [
    {
     "data": {
      "text/plain": [
       "714.7047141786433"
      ]
     },
     "execution_count": 135,
     "metadata": {},
     "output_type": "execute_result"
    }
   ],
   "source": [
    "vincenty((-33.868820,151.209295),(-37.842557,144.977767)).km"
   ]
  },
  {
   "cell_type": "code",
   "execution_count": 136,
   "metadata": {
    "collapsed": true
   },
   "outputs": [],
   "source": [
    "max_vincenty = 20036"
   ]
  },
  {
   "cell_type": "code",
   "execution_count": 4,
   "metadata": {},
   "outputs": [
    {
     "data": {
      "text/plain": [
       "0.03567102785878635"
      ]
     },
     "execution_count": 4,
     "metadata": {},
     "output_type": "execute_result"
    }
   ],
   "source": [
    "distance_btw_recommendations(-33.868820,151.209295,-37.842557,144.977767)"
   ]
  },
  {
   "cell_type": "code",
   "execution_count": 150,
   "metadata": {
    "collapsed": true
   },
   "outputs": [],
   "source": [
    "c = np.array(world.continent.unique())"
   ]
  },
  {
   "cell_type": "code",
   "execution_count": 156,
   "metadata": {},
   "outputs": [
    {
     "data": {
      "text/plain": [
       "array(['oceania', 'asia', 'africa', 'sa', 'na', 'europe'], dtype=object)"
      ]
     },
     "execution_count": 156,
     "metadata": {},
     "output_type": "execute_result"
    }
   ],
   "source": [
    "c"
   ]
  },
  {
   "cell_type": "code",
   "execution_count": 4,
   "metadata": {
    "collapsed": true
   },
   "outputs": [],
   "source": [
    "oceania = world[world.continent == 'oceania']"
   ]
  },
  {
   "cell_type": "code",
   "execution_count": 5,
   "metadata": {
    "collapsed": true
   },
   "outputs": [],
   "source": [
    "asia = world[world.continent == 'asia']"
   ]
  },
  {
   "cell_type": "code",
   "execution_count": 6,
   "metadata": {
    "collapsed": true
   },
   "outputs": [],
   "source": [
    "na = world[world.continent == 'na']"
   ]
  },
  {
   "cell_type": "code",
   "execution_count": 7,
   "metadata": {
    "collapsed": true
   },
   "outputs": [],
   "source": [
    "sa = world[world.continent == 'sa']"
   ]
  },
  {
   "cell_type": "code",
   "execution_count": 8,
   "metadata": {
    "collapsed": true
   },
   "outputs": [],
   "source": [
    "africa = world[world.continent == 'africa']"
   ]
  },
  {
   "cell_type": "code",
   "execution_count": 9,
   "metadata": {
    "collapsed": true
   },
   "outputs": [],
   "source": [
    "europe = world[world.continent == 'europe']"
   ]
  },
  {
   "cell_type": "code",
   "execution_count": 10,
   "metadata": {
    "collapsed": true
   },
   "outputs": [],
   "source": [
    "sample_oceania = oceania.sample(n = 1)"
   ]
  },
  {
   "cell_type": "code",
   "execution_count": 11,
   "metadata": {},
   "outputs": [
    {
     "data": {
      "text/plain": [
       "(-6.3149930000000003, 143.95554999999999)"
      ]
     },
     "execution_count": 11,
     "metadata": {},
     "output_type": "execute_result"
    }
   ],
   "source": [
    "(sample_oceania.latitude.values[0], sample_oceania.longitude.values[0])"
   ]
  },
  {
   "cell_type": "code",
   "execution_count": 12,
   "metadata": {},
   "outputs": [],
   "source": [
    "world['lda_score'] = world.topicDistribution.apply(lambda x: lda_scores(x,lst_topics= [0,13,7]))"
   ]
  },
  {
   "cell_type": "code",
   "execution_count": 14,
   "metadata": {},
   "outputs": [],
   "source": [
    "rec_0 = first_recommendation(world)"
   ]
  },
  {
   "cell_type": "code",
   "execution_count": 16,
   "metadata": {},
   "outputs": [],
   "source": [
    "def return_coords(x):\n",
    "    return (x.latitude.values[0], x.longitude.values[0])"
   ]
  },
  {
   "cell_type": "code",
   "execution_count": 21,
   "metadata": {},
   "outputs": [],
   "source": [
    "y = return_coords(rec_0)"
   ]
  },
  {
   "cell_type": "code",
   "execution_count": 18,
   "metadata": {
    "collapsed": true
   },
   "outputs": [],
   "source": [
    "x = return_coords(sample_oceania)"
   ]
  },
  {
   "cell_type": "code",
   "execution_count": 19,
   "metadata": {},
   "outputs": [
    {
     "data": {
      "text/plain": [
       "(-6.3149930000000003, 143.95554999999999)"
      ]
     },
     "execution_count": 19,
     "metadata": {},
     "output_type": "execute_result"
    }
   ],
   "source": [
    "x"
   ]
  },
  {
   "cell_type": "code",
   "execution_count": 22,
   "metadata": {},
   "outputs": [
    {
     "data": {
      "text/plain": [
       "(48.851938700000005, 2.3570352000000003)"
      ]
     },
     "execution_count": 22,
     "metadata": {},
     "output_type": "execute_result"
    }
   ],
   "source": [
    "y"
   ]
  },
  {
   "cell_type": "code",
   "execution_count": 23,
   "metadata": {
    "collapsed": true
   },
   "outputs": [],
   "source": [
    "def distance_btw_recommendations(x,y):\n",
    "    max_vincenty = 20036\n",
    "    return vincenty(x,y).km/max_vincenty"
   ]
  },
  {
   "cell_type": "code",
   "execution_count": 24,
   "metadata": {},
   "outputs": [
    {
     "ename": "NameError",
     "evalue": "global name 'vincenty' is not defined",
     "output_type": "error",
     "traceback": [
      "\u001b[0;31m---------------------------------------------------------------------------\u001b[0m",
      "\u001b[0;31mNameError\u001b[0m                                 Traceback (most recent call last)",
      "\u001b[0;32m<ipython-input-24-10a8726f6100>\u001b[0m in \u001b[0;36m<module>\u001b[0;34m()\u001b[0m\n\u001b[0;32m----> 1\u001b[0;31m \u001b[0mdistance_btw_recommendations\u001b[0m\u001b[0;34m(\u001b[0m\u001b[0mx\u001b[0m\u001b[0;34m,\u001b[0m\u001b[0my\u001b[0m\u001b[0;34m)\u001b[0m\u001b[0;34m\u001b[0m\u001b[0m\n\u001b[0m",
      "\u001b[0;32m<ipython-input-23-20c40bed8d8f>\u001b[0m in \u001b[0;36mdistance_btw_recommendations\u001b[0;34m(x, y)\u001b[0m\n\u001b[1;32m      1\u001b[0m \u001b[0;32mdef\u001b[0m \u001b[0mdistance_btw_recommendations\u001b[0m\u001b[0;34m(\u001b[0m\u001b[0mx\u001b[0m\u001b[0;34m,\u001b[0m\u001b[0my\u001b[0m\u001b[0;34m)\u001b[0m\u001b[0;34m:\u001b[0m\u001b[0;34m\u001b[0m\u001b[0m\n\u001b[1;32m      2\u001b[0m     \u001b[0mmax_vincenty\u001b[0m \u001b[0;34m=\u001b[0m \u001b[0;36m20036\u001b[0m\u001b[0;34m\u001b[0m\u001b[0m\n\u001b[0;32m----> 3\u001b[0;31m     \u001b[0;32mreturn\u001b[0m \u001b[0mvincenty\u001b[0m\u001b[0;34m(\u001b[0m\u001b[0mx\u001b[0m\u001b[0;34m,\u001b[0m\u001b[0my\u001b[0m\u001b[0;34m)\u001b[0m\u001b[0;34m.\u001b[0m\u001b[0mkm\u001b[0m\u001b[0;34m/\u001b[0m\u001b[0mmax_vincenty\u001b[0m\u001b[0;34m\u001b[0m\u001b[0m\n\u001b[0m",
      "\u001b[0;31mNameError\u001b[0m: global name 'vincenty' is not defined"
     ]
    }
   ],
   "source": [
    "distance_btw_recommendations(x,y)"
   ]
  },
  {
   "cell_type": "code",
   "execution_count": null,
   "metadata": {
    "collapsed": true
   },
   "outputs": [],
   "source": []
  }
 ],
 "metadata": {
  "kernelspec": {
   "display_name": "Python 2",
   "language": "python",
   "name": "python2"
  },
  "language_info": {
   "codemirror_mode": {
    "name": "ipython",
    "version": 2
   },
   "file_extension": ".py",
   "mimetype": "text/x-python",
   "name": "python",
   "nbconvert_exporter": "python",
   "pygments_lexer": "ipython2",
   "version": "2.7.13"
  }
 },
 "nbformat": 4,
 "nbformat_minor": 2
}
